{
 "cells": [
  {
   "cell_type": "code",
   "execution_count": 1,
   "metadata": {},
   "outputs": [
    {
     "name": "stderr",
     "output_type": "stream",
     "text": [
      "C:\\Users\\Hitesh\\AppData\\Local\\Continuum\\anaconda3\\lib\\site-packages\\statsmodels\\tools\\_testing.py:19: FutureWarning: pandas.util.testing is deprecated. Use the functions in the public API at pandas.testing instead.\n",
      "  import pandas.util.testing as tm\n"
     ]
    }
   ],
   "source": [
    "# Let`s import all packages that we may need:\n",
    "\n",
    "import sys \n",
    "import numpy as np # linear algebra\n",
    "from scipy.stats import randint\n",
    "import pandas as pd # data processing, CSV file I/O (e.g. pd.read_csv), data manipulation as in SQL\n",
    "import matplotlib.pyplot as plt # this is used for the plot the graph \n",
    "import seaborn as sns # used for plot interactive graph. \n",
    "from sklearn.model_selection import train_test_split # to split the data into two parts\n",
    "#from sklearn.cross_validation import KFold # use for cross validation\n",
    "from sklearn.preprocessing import StandardScaler # for normalization\n",
    "from sklearn.preprocessing import MinMaxScaler\n",
    "from sklearn.pipeline import Pipeline # pipeline making\n",
    "from sklearn.model_selection import cross_val_score\n",
    "from sklearn.feature_selection import SelectFromModel\n",
    "from sklearn import metrics # for the check the error and accuracy of the model\n",
    "from sklearn.metrics import mean_squared_error,r2_score\n",
    "\n",
    "## for Deep-learing:\n",
    "import keras\n",
    "from keras.layers import Dense\n",
    "from keras.models import Sequential\n",
    "from keras.utils import to_categorical\n",
    "from keras.optimizers import SGD \n",
    "from keras.callbacks import EarlyStopping\n",
    "from keras.utils import np_utils\n",
    "import itertools\n",
    "from keras.layers import LSTM\n",
    "from keras.layers.convolutional import Conv1D\n",
    "from keras.layers.convolutional import MaxPooling1D\n",
    "from keras.layers import Dropout\n",
    "from tensorflow.keras.callbacks import ModelCheckpoint, EarlyStopping\n",
    "\n",
    "import seaborn as sns\n",
    "sns.set_style('whitegrid')\n",
    "plt.style.use(\"fivethirtyeight\")\n",
    "%matplotlib inline\n",
    "\n",
    "# For time stamps\n",
    "from datetime import datetime"
   ]
  },
  {
   "cell_type": "code",
   "execution_count": 2,
   "metadata": {},
   "outputs": [],
   "source": [
    "import pandas as pd\n",
    "import glob\n",
    "\n",
    "path = r'C:/Users/Hitesh/Desktop/LJMU/Forex Implementation/USD XAU/Data/' \n",
    "all_files = glob.glob(path + \"/*.csv\")\n",
    "\n",
    "li = []\n",
    "\n",
    "for filename in all_files:\n",
    "    df = pd.read_csv(filename, index_col=None, header=0)\n",
    "    df.columns = ['Index','Timestamp','Open_Bid_Quote','High_Bid_Quote','Low_Bid_Quote','Close_Bid_Quote','Volume']\n",
    "    df.drop(columns=['Index','Volume','Open_Bid_Quote','High_Bid_Quote','Low_Bid_Quote'],inplace=True)\n",
    "    li.append(df)\n",
    "\n",
    "data = pd.concat(li, axis=0, ignore_index=True)"
   ]
  },
  {
   "cell_type": "code",
   "execution_count": 3,
   "metadata": {},
   "outputs": [
    {
     "data": {
      "text/plain": [
       "<matplotlib.axes._subplots.AxesSubplot at 0x2763fe7a588>"
      ]
     },
     "execution_count": 3,
     "metadata": {},
     "output_type": "execute_result"
    },
    {
     "data": {
      "text/plain": [
       "<Figure size 1440x360 with 0 Axes>"
      ]
     },
     "metadata": {},
     "output_type": "display_data"
    },
    {
     "data": {
      "image/png": "[encoded data removed]",
      "text/plain": [
       "<Figure size 432x288 with 1 Axes>"
      ]
     },
     "metadata": {
      "needs_background": "light"
     },
     "output_type": "display_data"
    }
   ],
   "source": [
    "plt.figure(figsize=(20,5))\n",
    "data.plot()"
   ]
  },
  {
   "cell_type": "code",
   "execution_count": 4,
   "metadata": {},
   "outputs": [
    {
     "data": {
      "text/plain": [
       "<bound method NDFrame.head of                    Timestamp  Close_Bid_Quote\n",
       "0        2010-01-03 18:01:00         1099.550\n",
       "1        2010-01-03 18:02:00         1099.200\n",
       "2        2010-01-03 18:03:00         1099.700\n",
       "3        2010-01-03 18:04:00         1099.950\n",
       "4        2010-01-03 18:05:00         1100.050\n",
       "...                      ...              ...\n",
       "4052841  2021-06-30 23:54:00         1775.368\n",
       "4052842  2021-06-30 23:55:00         1775.638\n",
       "4052843  2021-06-30 23:56:00         1775.655\n",
       "4052844  2021-06-30 23:57:00         1775.715\n",
       "4052845  2021-06-30 23:58:00         1775.655\n",
       "\n",
       "[4052846 rows x 2 columns]>"
      ]
     },
     "execution_count": 4,
     "metadata": {},
     "output_type": "execute_result"
    }
   ],
   "source": [
    "data.head"
   ]
  },
  {
   "cell_type": "code",
   "execution_count": 5,
   "metadata": {},
   "outputs": [
    {
     "data": {
      "text/plain": [
       "'2010-01-03 18:01:00'"
      ]
     },
     "execution_count": 5,
     "metadata": {},
     "output_type": "execute_result"
    }
   ],
   "source": [
    "data['Timestamp'].min()"
   ]
  },
  {
   "cell_type": "code",
   "execution_count": 6,
   "metadata": {},
   "outputs": [
    {
     "data": {
      "text/plain": [
       "'2021-06-30 23:58:00'"
      ]
     },
     "execution_count": 6,
     "metadata": {},
     "output_type": "execute_result"
    }
   ],
   "source": [
    "data['Timestamp'].max()"
   ]
  },
  {
   "cell_type": "code",
   "execution_count": 7,
   "metadata": {},
   "outputs": [],
   "source": [
    "from datetime import datetime                                              \n",
    "data['Timestamp'] = pd.to_datetime(data['Timestamp'])\n",
    "data = data.set_index('Timestamp')"
   ]
  },
  {
   "cell_type": "code",
   "execution_count": 8,
   "metadata": {},
   "outputs": [],
   "source": [
    "data = data.resample(\"H\").max()"
   ]
  },
  {
   "cell_type": "code",
   "execution_count": 9,
   "metadata": {},
   "outputs": [
    {
     "data": {
      "text/plain": [
       "Index(['Close_Bid_Quote'], dtype='object')"
      ]
     },
     "execution_count": 9,
     "metadata": {},
     "output_type": "execute_result"
    }
   ],
   "source": [
    "data.columns"
   ]
  },
  {
   "cell_type": "code",
   "execution_count": 10,
   "metadata": {},
   "outputs": [
    {
     "data": {
      "image/png": "[encoded data removed]",
      "text/plain": [
       "<Figure size 864x288 with 1 Axes>"
      ]
     },
     "metadata": {
      "needs_background": "light"
     },
     "output_type": "display_data"
    }
   ],
   "source": [
    "data = data.assign(Close_Bid_Quote_Linear_Interpolation=data.Close_Bid_Quote.interpolate(method='linear'))\n",
    "data[['Close_Bid_Quote_Linear_Interpolation']].plot(figsize=(12, 4))\n",
    "plt.legend(loc='best')\n",
    "plt.title('USD-XAU Chart: Linear imputation')\n",
    "plt.show(block=False)"
   ]
  },
  {
   "cell_type": "code",
   "execution_count": 11,
   "metadata": {},
   "outputs": [],
   "source": [
    "data.drop(columns=['Close_Bid_Quote'],inplace=True)"
   ]
  },
  {
   "cell_type": "code",
   "execution_count": 12,
   "metadata": {},
   "outputs": [],
   "source": [
    "data=data.rename(columns={\"Close_Bid_Quote_Linear_Interpolation\": \"Close_Bid_Quote\"}, errors=\"raise\")"
   ]
  },
  {
   "cell_type": "code",
   "execution_count": 13,
   "metadata": {},
   "outputs": [
    {
     "data": {
      "text/html": [
       "<div>\n",
       "<style scoped>\n",
       "    .dataframe tbody tr th:only-of-type {\n",
       "        vertical-align: middle;\n",
       "    }\n",
       "\n",
       "    .dataframe tbody tr th {\n",
       "        vertical-align: top;\n",
       "    }\n",
       "\n",
       "    .dataframe thead th {\n",
       "        text-align: right;\n",
       "    }\n",
       "</style>\n",
       "<table border=\"1\" class=\"dataframe\">\n",
       "  <thead>\n",
       "    <tr style=\"text-align: right;\">\n",
       "      <th></th>\n",
       "      <th>Close_Bid_Quote</th>\n",
       "    </tr>\n",
       "    <tr>\n",
       "      <th>Timestamp</th>\n",
       "      <th></th>\n",
       "    </tr>\n",
       "  </thead>\n",
       "  <tbody>\n",
       "    <tr>\n",
       "      <th>2010-01-03 18:00:00</th>\n",
       "      <td>1100.05</td>\n",
       "    </tr>\n",
       "    <tr>\n",
       "      <th>2010-01-03 19:00:00</th>\n",
       "      <td>1096.40</td>\n",
       "    </tr>\n",
       "    <tr>\n",
       "      <th>2010-01-03 20:00:00</th>\n",
       "      <td>1095.63</td>\n",
       "    </tr>\n",
       "    <tr>\n",
       "      <th>2010-01-03 21:00:00</th>\n",
       "      <td>1098.88</td>\n",
       "    </tr>\n",
       "    <tr>\n",
       "      <th>2010-01-03 22:00:00</th>\n",
       "      <td>1099.08</td>\n",
       "    </tr>\n",
       "  </tbody>\n",
       "</table>\n",
       "</div>"
      ],
      "text/plain": [
       "                     Close_Bid_Quote\n",
       "Timestamp                           \n",
       "2010-01-03 18:00:00          1100.05\n",
       "2010-01-03 19:00:00          1096.40\n",
       "2010-01-03 20:00:00          1095.63\n",
       "2010-01-03 21:00:00          1098.88\n",
       "2010-01-03 22:00:00          1099.08"
      ]
     },
     "execution_count": 13,
     "metadata": {},
     "output_type": "execute_result"
    }
   ],
   "source": [
    "data.head()"
   ]
  },
  {
   "cell_type": "code",
   "execution_count": 14,
   "metadata": {},
   "outputs": [],
   "source": [
    "train_len = int(len(data['Close_Bid_Quote'])*80/100)\n",
    "train = data[0:train_len] # first 120 months as training set\n",
    "test = data[train_len:] # last 24"
   ]
  },
  {
   "cell_type": "code",
   "execution_count": 15,
   "metadata": {},
   "outputs": [
    {
     "data": {
      "text/plain": [
       "20142"
      ]
     },
     "execution_count": 15,
     "metadata": {},
     "output_type": "execute_result"
    }
   ],
   "source": [
    "len(test)"
   ]
  },
  {
   "cell_type": "code",
   "execution_count": 16,
   "metadata": {},
   "outputs": [
    {
     "data": {
      "text/plain": [
       "80568"
      ]
     },
     "execution_count": 16,
     "metadata": {},
     "output_type": "execute_result"
    }
   ],
   "source": [
    "len(train)"
   ]
  },
  {
   "cell_type": "code",
   "execution_count": 17,
   "metadata": {},
   "outputs": [
    {
     "data": {
      "text/plain": [
       "80568"
      ]
     },
     "execution_count": 17,
     "metadata": {},
     "output_type": "execute_result"
    }
   ],
   "source": [
    "dataset = data.values\n",
    "training_data_len = int(np.ceil( len(dataset) * .80 ))\n",
    "training_data_len"
   ]
  },
  {
   "cell_type": "code",
   "execution_count": 18,
   "metadata": {},
   "outputs": [
    {
     "data": {
      "text/plain": [
       "array([[0.04835239],\n",
       "       [0.04478845],\n",
       "       [0.0440366 ],\n",
       "       ...,\n",
       "       [0.70430739],\n",
       "       [0.70737335],\n",
       "       [0.70820624]])"
      ]
     },
     "execution_count": 18,
     "metadata": {},
     "output_type": "execute_result"
    }
   ],
   "source": [
    "# Scale the data\n",
    "from sklearn.preprocessing import MinMaxScaler\n",
    "\n",
    "scaler = MinMaxScaler(feature_range=(0,1))\n",
    "scaled_data = scaler.fit_transform(dataset)\n",
    "\n",
    "scaled_data"
   ]
  },
  {
   "cell_type": "code",
   "execution_count": 19,
   "metadata": {},
   "outputs": [],
   "source": [
    "train_data = scaled_data[0:int(training_data_len), :]\n",
    "# Split the data into x_train and y_train data sets"
   ]
  },
  {
   "cell_type": "code",
   "execution_count": 20,
   "metadata": {},
   "outputs": [
    {
     "name": "stdout",
     "output_type": "stream",
     "text": [
      "[array([0.04835239, 0.04478845, 0.0440366 , 0.04720997, 0.04740526,\n",
      "       0.0502857 , 0.05172104, 0.05175033, 0.05179915, 0.05873175,\n",
      "       0.06170983, 0.06258861, 0.06636736, 0.06480509, 0.06602561,\n",
      "       0.07127876, 0.07103466, 0.07061479, 0.06712897, 0.06592797,\n",
      "       0.06664076, 0.06812492, 0.06898417, 0.06903299, 0.0704488 ,\n",
      "       0.07041951, 0.06983366, 0.06961884, 0.0713764 , 0.07144475,\n",
      "       0.07159122, 0.07494034, 0.07542855, 0.07528209, 0.07479388,\n",
      "       0.07442284, 0.07039998, 0.07535044, 0.07408109, 0.06973601,\n",
      "       0.07337807, 0.07367099, 0.07183532, 0.06895488, 0.06592797,\n",
      "       0.06778317, 0.06727543, 0.06585962, 0.06678722, 0.06747072,\n",
      "       0.06958955, 0.07144475, 0.07210872, 0.07227471, 0.07168886,\n",
      "       0.07188414, 0.07176697, 0.0732316 , 0.07420802, 0.07406156])]\n",
      "[0.07334877381003535]\n",
      "\n",
      "[array([0.04835239, 0.04478845, 0.0440366 , 0.04720997, 0.04740526,\n",
      "       0.0502857 , 0.05172104, 0.05175033, 0.05179915, 0.05873175,\n",
      "       0.06170983, 0.06258861, 0.06636736, 0.06480509, 0.06602561,\n",
      "       0.07127876, 0.07103466, 0.07061479, 0.06712897, 0.06592797,\n",
      "       0.06664076, 0.06812492, 0.06898417, 0.06903299, 0.0704488 ,\n",
      "       0.07041951, 0.06983366, 0.06961884, 0.0713764 , 0.07144475,\n",
      "       0.07159122, 0.07494034, 0.07542855, 0.07528209, 0.07479388,\n",
      "       0.07442284, 0.07039998, 0.07535044, 0.07408109, 0.06973601,\n",
      "       0.07337807, 0.07367099, 0.07183532, 0.06895488, 0.06592797,\n",
      "       0.06778317, 0.06727543, 0.06585962, 0.06678722, 0.06747072,\n",
      "       0.06958955, 0.07144475, 0.07210872, 0.07227471, 0.07168886,\n",
      "       0.07188414, 0.07176697, 0.0732316 , 0.07420802, 0.07406156]), array([0.04478845, 0.0440366 , 0.04720997, 0.04740526, 0.0502857 ,\n",
      "       0.05172104, 0.05175033, 0.05179915, 0.05873175, 0.06170983,\n",
      "       0.06258861, 0.06636736, 0.06480509, 0.06602561, 0.07127876,\n",
      "       0.07103466, 0.07061479, 0.06712897, 0.06592797, 0.06664076,\n",
      "       0.06812492, 0.06898417, 0.06903299, 0.0704488 , 0.07041951,\n",
      "       0.06983366, 0.06961884, 0.0713764 , 0.07144475, 0.07159122,\n",
      "       0.07494034, 0.07542855, 0.07528209, 0.07479388, 0.07442284,\n",
      "       0.07039998, 0.07535044, 0.07408109, 0.06973601, 0.07337807,\n",
      "       0.07367099, 0.07183532, 0.06895488, 0.06592797, 0.06778317,\n",
      "       0.06727543, 0.06585962, 0.06678722, 0.06747072, 0.06958955,\n",
      "       0.07144475, 0.07210872, 0.07227471, 0.07168886, 0.07188414,\n",
      "       0.07176697, 0.0732316 , 0.07420802, 0.07406156, 0.07334877])]\n",
      "[0.07334877381003535, 0.07037068861141149]\n",
      "\n"
     ]
    }
   ],
   "source": [
    "# Create the training data set \n",
    "# Create the scaled training data set\n",
    "\n",
    "x_train = []\n",
    "y_train = []\n",
    "\n",
    "for i in range(60, len(train_data)):\n",
    "    x_train.append(train_data[i-60:i, 0])\n",
    "    y_train.append(train_data[i, 0])\n",
    "    if i<= 61:\n",
    "        print(x_train)\n",
    "        print(y_train)\n",
    "        print()\n",
    "        \n",
    "# Convert the x_train and y_train to numpy arrays \n",
    "x_train, y_train = np.array(x_train), np.array(y_train)\n",
    "\n",
    "# Reshape the data\n",
    "x_train = np.reshape(x_train, (x_train.shape[0], x_train.shape[1], 1))\n",
    "# x_train.shape"
   ]
  },
  {
   "cell_type": "code",
   "execution_count": 21,
   "metadata": {},
   "outputs": [
    {
     "name": "stdout",
     "output_type": "stream",
     "text": [
      "Epoch 1/10\n",
      "2516/2516 [==============================] - 261s 102ms/step - loss: 6.7960e-04\n",
      "Epoch 2/10\n",
      "2516/2516 [==============================] - 250s 99ms/step - loss: 2.4303e-05\n",
      "Epoch 3/10\n",
      "2516/2516 [==============================] - 251s 100ms/step - loss: 1.5883e-05\n",
      "Epoch 4/10\n",
      "2516/2516 [==============================] - 261s 104ms/step - loss: 1.1420e-05\n",
      "Epoch 5/10\n",
      "2516/2516 [==============================] - 250s 99ms/step - loss: 9.4120e-06\n",
      "Epoch 6/10\n",
      "2516/2516 [==============================] - 260s 104ms/step - loss: 9.4071e-06\n",
      "Epoch 7/10\n",
      "2516/2516 [==============================] - 262s 104ms/step - loss: 7.6358e-06\n",
      "Epoch 8/10\n",
      "2516/2516 [==============================] - 254s 101ms/step - loss: 7.2039e-06\n",
      "Epoch 9/10\n",
      "2516/2516 [==============================] - 259s 103ms/step - loss: 7.0483e-06\n",
      "Epoch 10/10\n",
      "2516/2516 [==============================] - 254s 101ms/step - loss: 6.9318e-06\n"
     ]
    },
    {
     "data": {
      "text/plain": [
       "<tensorflow.python.keras.callbacks.History at 0x276430fdec8>"
      ]
     },
     "execution_count": 21,
     "metadata": {},
     "output_type": "execute_result"
    }
   ],
   "source": [
    "from keras.models import Sequential\n",
    "from keras.layers import Dense, LSTM\n",
    "\n",
    "# Build the LSTM model\n",
    "model = Sequential()\n",
    "model.add(LSTM(128, return_sequences=True, input_shape= (x_train.shape[1], 1)))\n",
    "model.add(LSTM(64, return_sequences=False))\n",
    "model.add(Dense(25))\n",
    "model.add(Dense(1))\n",
    "\n",
    "# Compile the model\n",
    "model.compile(optimizer='adam', loss='mean_squared_error')\n",
    "\n",
    "# Train the model\n",
    "model.fit(x_train, y_train, batch_size=32, epochs=10)"
   ]
  },
  {
   "cell_type": "code",
   "execution_count": 22,
   "metadata": {},
   "outputs": [
    {
     "data": {
      "text/plain": [
       "2.6252987522951248"
      ]
     },
     "execution_count": 22,
     "metadata": {},
     "output_type": "execute_result"
    }
   ],
   "source": [
    "# Create the testing data set\n",
    "# Create a new array containing scaled values from index 1543 to 2002 \n",
    "test_data = scaled_data[training_data_len - 60: , :]\n",
    "# Create the data sets x_test and y_test\n",
    "x_test = []\n",
    "y_test = dataset[training_data_len:, :]\n",
    "for i in range(60, len(test_data)):\n",
    "    x_test.append(test_data[i-60:i, 0])\n",
    "    \n",
    "# Convert the data to a numpy array\n",
    "x_test = np.array(x_test)\n",
    "\n",
    "# Reshape the data\n",
    "x_test = np.reshape(x_test, (x_test.shape[0], x_test.shape[1], 1 ))\n",
    "\n",
    "# Get the models predicted price values \n",
    "predictions = model.predict(x_test)\n",
    "predictions = scaler.inverse_transform(predictions)\n",
    "\n",
    "# Get the root mean squared error (RMSE)\n",
    "rmse = np.sqrt(np.mean(((predictions - y_test) ** 2)))\n",
    "rmse"
   ]
  },
  {
   "cell_type": "code",
   "execution_count": 25,
   "metadata": {},
   "outputs": [
    {
     "data": {
      "text/plain": [
       "2.6252987522951248"
      ]
     },
     "execution_count": 25,
     "metadata": {},
     "output_type": "execute_result"
    }
   ],
   "source": [
    "rms = np.sqrt(mean_squared_error(y_test, predictions))\n",
    "rms"
   ]
  },
  {
   "cell_type": "code",
   "execution_count": 26,
   "metadata": {},
   "outputs": [
    {
     "name": "stderr",
     "output_type": "stream",
     "text": [
      "C:\\Users\\Hitesh\\AppData\\Local\\Continuum\\anaconda3\\lib\\site-packages\\ipykernel_launcher.py:4: SettingWithCopyWarning: \n",
      "A value is trying to be set on a copy of a slice from a DataFrame.\n",
      "Try using .loc[row_indexer,col_indexer] = value instead\n",
      "\n",
      "See the caveats in the documentation: https://pandas.pydata.org/pandas-docs/stable/user_guide/indexing.html#returning-a-view-versus-a-copy\n",
      "  after removing the cwd from sys.path.\n"
     ]
    },
    {
     "data": {
      "image/png": "[encoded data removed]",
      "text/plain": [
       "<Figure size 1152x432 with 1 Axes>"
      ]
     },
     "metadata": {
      "needs_background": "light"
     },
     "output_type": "display_data"
    }
   ],
   "source": [
    "# Plot the data\n",
    "train = data[:training_data_len]\n",
    "valid = data[training_data_len:]\n",
    "valid['Predictions'] = predictions\n",
    "# Visualize the data\n",
    "plt.figure(figsize=(16,6))\n",
    "plt.title('LSTM Model - USD-XAU')\n",
    "plt.xlabel('Date', fontsize=18)\n",
    "plt.ylabel('Close_Bid_Quote', fontsize=18)\n",
    "plt.plot(train['Close_Bid_Quote'])\n",
    "plt.plot(valid[['Close_Bid_Quote', 'Predictions']])\n",
    "plt.legend(['Train', 'Test', 'Predictions'], loc='lower right')\n",
    "plt.show()"
   ]
  },
  {
   "cell_type": "code",
   "execution_count": 24,
   "metadata": {},
   "outputs": [
    {
     "data": {
      "text/html": [
       "<div>\n",
       "<style scoped>\n",
       "    .dataframe tbody tr th:only-of-type {\n",
       "        vertical-align: middle;\n",
       "    }\n",
       "\n",
       "    .dataframe tbody tr th {\n",
       "        vertical-align: top;\n",
       "    }\n",
       "\n",
       "    .dataframe thead th {\n",
       "        text-align: right;\n",
       "    }\n",
       "</style>\n",
       "<table border=\"1\" class=\"dataframe\">\n",
       "  <thead>\n",
       "    <tr style=\"text-align: right;\">\n",
       "      <th></th>\n",
       "      <th>Close_Bid_Quote</th>\n",
       "      <th>Predictions</th>\n",
       "    </tr>\n",
       "    <tr>\n",
       "      <th>Timestamp</th>\n",
       "      <th></th>\n",
       "      <th></th>\n",
       "    </tr>\n",
       "  </thead>\n",
       "  <tbody>\n",
       "    <tr>\n",
       "      <th>2019-03-14 18:00:00</th>\n",
       "      <td>1296.308</td>\n",
       "      <td>1297.208374</td>\n",
       "    </tr>\n",
       "    <tr>\n",
       "      <th>2019-03-14 19:00:00</th>\n",
       "      <td>1296.555</td>\n",
       "      <td>1296.805054</td>\n",
       "    </tr>\n",
       "    <tr>\n",
       "      <th>2019-03-14 20:00:00</th>\n",
       "      <td>1296.255</td>\n",
       "      <td>1297.119507</td>\n",
       "    </tr>\n",
       "    <tr>\n",
       "      <th>2019-03-14 21:00:00</th>\n",
       "      <td>1298.815</td>\n",
       "      <td>1296.742554</td>\n",
       "    </tr>\n",
       "    <tr>\n",
       "      <th>2019-03-14 22:00:00</th>\n",
       "      <td>1299.765</td>\n",
       "      <td>1299.591187</td>\n",
       "    </tr>\n",
       "    <tr>\n",
       "      <th>...</th>\n",
       "      <td>...</td>\n",
       "      <td>...</td>\n",
       "    </tr>\n",
       "    <tr>\n",
       "      <th>2021-06-30 19:00:00</th>\n",
       "      <td>1770.028</td>\n",
       "      <td>1770.293823</td>\n",
       "    </tr>\n",
       "    <tr>\n",
       "      <th>2021-06-30 20:00:00</th>\n",
       "      <td>1768.328</td>\n",
       "      <td>1770.420044</td>\n",
       "    </tr>\n",
       "    <tr>\n",
       "      <th>2021-06-30 21:00:00</th>\n",
       "      <td>1771.845</td>\n",
       "      <td>1768.361450</td>\n",
       "    </tr>\n",
       "    <tr>\n",
       "      <th>2021-06-30 22:00:00</th>\n",
       "      <td>1774.985</td>\n",
       "      <td>1772.998291</td>\n",
       "    </tr>\n",
       "    <tr>\n",
       "      <th>2021-06-30 23:00:00</th>\n",
       "      <td>1775.838</td>\n",
       "      <td>1775.753418</td>\n",
       "    </tr>\n",
       "  </tbody>\n",
       "</table>\n",
       "<p>20142 rows × 2 columns</p>\n",
       "</div>"
      ],
      "text/plain": [
       "                     Close_Bid_Quote  Predictions\n",
       "Timestamp                                        \n",
       "2019-03-14 18:00:00         1296.308  1297.208374\n",
       "2019-03-14 19:00:00         1296.555  1296.805054\n",
       "2019-03-14 20:00:00         1296.255  1297.119507\n",
       "2019-03-14 21:00:00         1298.815  1296.742554\n",
       "2019-03-14 22:00:00         1299.765  1299.591187\n",
       "...                              ...          ...\n",
       "2021-06-30 19:00:00         1770.028  1770.293823\n",
       "2021-06-30 20:00:00         1768.328  1770.420044\n",
       "2021-06-30 21:00:00         1771.845  1768.361450\n",
       "2021-06-30 22:00:00         1774.985  1772.998291\n",
       "2021-06-30 23:00:00         1775.838  1775.753418\n",
       "\n",
       "[20142 rows x 2 columns]"
      ]
     },
     "execution_count": 24,
     "metadata": {},
     "output_type": "execute_result"
    }
   ],
   "source": [
    "# Show the valid and predicted prices\n",
    "valid"
   ]
  },
  {
   "cell_type": "code",
   "execution_count": null,
   "metadata": {},
   "outputs": [],
   "source": []
  },
  {
   "cell_type": "code",
   "execution_count": null,
   "metadata": {},
   "outputs": [],
   "source": []
  }
 ],
 "metadata": {
  "kernelspec": {
   "display_name": "Python 3",
   "language": "python",
   "name": "python3"
  },
  "language_info": {
   "codemirror_mode": {
    "name": "ipython",
    "version": 3
   },
   "file_extension": ".py",
   "mimetype": "text/x-python",
   "name": "python",
   "nbconvert_exporter": "python",
   "pygments_lexer": "ipython3",
   "version": "3.7.4"
  }
 },
 "nbformat": 4,
 "nbformat_minor": 2
}
