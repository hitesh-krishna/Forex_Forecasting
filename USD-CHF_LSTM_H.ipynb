{
 "cells": [
  {
   "cell_type": "code",
   "execution_count": 1,
   "metadata": {},
   "outputs": [
    {
     "name": "stderr",
     "output_type": "stream",
     "text": [
      "C:\\Users\\Hitesh\\AppData\\Local\\Continuum\\anaconda3\\lib\\site-packages\\statsmodels\\tools\\_testing.py:19: FutureWarning: pandas.util.testing is deprecated. Use the functions in the public API at pandas.testing instead.\n",
      "  import pandas.util.testing as tm\n"
     ]
    }
   ],
   "source": [
    "# Let`s import all packages that we may need:\n",
    "\n",
    "import sys \n",
    "import numpy as np # linear algebra\n",
    "from scipy.stats import randint\n",
    "import pandas as pd # data processing, CSV file I/O (e.g. pd.read_csv), data manipulation as in SQL\n",
    "import matplotlib.pyplot as plt # this is used for the plot the graph \n",
    "import seaborn as sns # used for plot interactive graph. \n",
    "from sklearn.model_selection import train_test_split # to split the data into two parts\n",
    "#from sklearn.cross_validation import KFold # use for cross validation\n",
    "from sklearn.preprocessing import StandardScaler # for normalization\n",
    "from sklearn.preprocessing import MinMaxScaler\n",
    "from sklearn.pipeline import Pipeline # pipeline making\n",
    "from sklearn.model_selection import cross_val_score\n",
    "from sklearn.feature_selection import SelectFromModel\n",
    "from sklearn import metrics # for the check the error and accuracy of the model\n",
    "from sklearn.metrics import mean_squared_error,r2_score\n",
    "\n",
    "## for Deep-learing:\n",
    "import keras\n",
    "from keras.layers import Dense\n",
    "from keras.models import Sequential\n",
    "from keras.utils import to_categorical\n",
    "from keras.optimizers import SGD \n",
    "from keras.callbacks import EarlyStopping\n",
    "from keras.utils import np_utils\n",
    "import itertools\n",
    "from keras.layers import LSTM\n",
    "from keras.layers.convolutional import Conv1D\n",
    "from keras.layers.convolutional import MaxPooling1D\n",
    "from keras.layers import Dropout\n",
    "from tensorflow.keras.callbacks import ModelCheckpoint, EarlyStopping\n",
    "\n",
    "import seaborn as sns\n",
    "sns.set_style('whitegrid')\n",
    "plt.style.use(\"fivethirtyeight\")\n",
    "%matplotlib inline\n",
    "\n",
    "# For time stamps\n",
    "from datetime import datetime"
   ]
  },
  {
   "cell_type": "code",
   "execution_count": 2,
   "metadata": {},
   "outputs": [],
   "source": [
    "import pandas as pd\n",
    "import glob\n",
    "\n",
    "path = r'C:/Users/Hitesh/Desktop/LJMU/Forex Implementation/USD CHF/Data/' \n",
    "all_files = glob.glob(path + \"/*.csv\")\n",
    "\n",
    "li = []\n",
    "\n",
    "for filename in all_files:\n",
    "    df = pd.read_csv(filename, index_col=None, header=0)\n",
    "    df.columns = ['Index','Timestamp','Open_Bid_Quote','High_Bid_Quote','Low_Bid_Quote','Close_Bid_Quote','Volume']\n",
    "    df.drop(columns=['Index','Volume','Open_Bid_Quote','High_Bid_Quote','Low_Bid_Quote'],inplace=True)\n",
    "    li.append(df)\n",
    "\n",
    "data = pd.concat(li, axis=0, ignore_index=True)"
   ]
  },
  {
   "cell_type": "code",
   "execution_count": 3,
   "metadata": {},
   "outputs": [
    {
     "data": {
      "text/plain": [
       "<matplotlib.axes._subplots.AxesSubplot at 0x20bf371e608>"
      ]
     },
     "execution_count": 3,
     "metadata": {},
     "output_type": "execute_result"
    },
    {
     "data": {
      "text/plain": [
       "<Figure size 1440x360 with 0 Axes>"
      ]
     },
     "metadata": {},
     "output_type": "display_data"
    },
    {
     "data": {
      "image/png": "[encoded data removed]",
      "text/plain": [
       "<Figure size 432x288 with 1 Axes>"
      ]
     },
     "metadata": {
      "needs_background": "light"
     },
     "output_type": "display_data"
    }
   ],
   "source": [
    "plt.figure(figsize=(20,5))\n",
    "data.plot()"
   ]
  },
  {
   "cell_type": "code",
   "execution_count": 4,
   "metadata": {},
   "outputs": [
    {
     "data": {
      "text/plain": [
       "<bound method NDFrame.head of                    Timestamp  Close_Bid_Quote\n",
       "0        2010-01-03 17:02:00          1.03670\n",
       "1        2010-01-03 17:03:00          1.03660\n",
       "2        2010-01-03 17:04:00          1.03690\n",
       "3        2010-01-03 17:05:00          1.03670\n",
       "4        2010-01-03 17:06:00          1.03670\n",
       "...                      ...              ...\n",
       "4194580  2021-06-30 23:52:00          0.92557\n",
       "4194581  2021-06-30 23:55:00          0.92564\n",
       "4194582  2021-06-30 23:56:00          0.92558\n",
       "4194583  2021-06-30 23:57:00          0.92550\n",
       "4194584  2021-06-30 23:58:00          0.92555\n",
       "\n",
       "[4194585 rows x 2 columns]>"
      ]
     },
     "execution_count": 4,
     "metadata": {},
     "output_type": "execute_result"
    }
   ],
   "source": [
    "data.head"
   ]
  },
  {
   "cell_type": "code",
   "execution_count": 5,
   "metadata": {},
   "outputs": [
    {
     "data": {
      "text/plain": [
       "'2010-01-03 17:02:00'"
      ]
     },
     "execution_count": 5,
     "metadata": {},
     "output_type": "execute_result"
    }
   ],
   "source": [
    "data['Timestamp'].min()"
   ]
  },
  {
   "cell_type": "code",
   "execution_count": 6,
   "metadata": {},
   "outputs": [
    {
     "data": {
      "text/plain": [
       "'2021-06-30 23:58:00'"
      ]
     },
     "execution_count": 6,
     "metadata": {},
     "output_type": "execute_result"
    }
   ],
   "source": [
    "data['Timestamp'].max()"
   ]
  },
  {
   "cell_type": "code",
   "execution_count": 7,
   "metadata": {},
   "outputs": [],
   "source": [
    "from datetime import datetime                                              \n",
    "data['Timestamp'] = pd.to_datetime(data['Timestamp'])\n",
    "data = data.set_index('Timestamp')"
   ]
  },
  {
   "cell_type": "code",
   "execution_count": 8,
   "metadata": {},
   "outputs": [],
   "source": [
    "data = data.resample(\"H\").max()"
   ]
  },
  {
   "cell_type": "code",
   "execution_count": 9,
   "metadata": {},
   "outputs": [
    {
     "data": {
      "text/plain": [
       "Index(['Close_Bid_Quote'], dtype='object')"
      ]
     },
     "execution_count": 9,
     "metadata": {},
     "output_type": "execute_result"
    }
   ],
   "source": [
    "data.columns"
   ]
  },
  {
   "cell_type": "code",
   "execution_count": 10,
   "metadata": {},
   "outputs": [
    {
     "data": {
      "image/png": "[encoded data removed]",
      "text/plain": [
       "<Figure size 864x288 with 1 Axes>"
      ]
     },
     "metadata": {
      "needs_background": "light"
     },
     "output_type": "display_data"
    }
   ],
   "source": [
    "data = data.assign(Close_Bid_Quote_Linear_Interpolation=data.Close_Bid_Quote.interpolate(method='linear'))\n",
    "data[['Close_Bid_Quote_Linear_Interpolation']].plot(figsize=(12, 4))\n",
    "plt.legend(loc='best')\n",
    "plt.title('USD-CHF Chart: Linear imputation')\n",
    "plt.show(block=False)"
   ]
  },
  {
   "cell_type": "code",
   "execution_count": 11,
   "metadata": {},
   "outputs": [],
   "source": [
    "data.drop(columns=['Close_Bid_Quote'],inplace=True)"
   ]
  },
  {
   "cell_type": "code",
   "execution_count": 12,
   "metadata": {},
   "outputs": [],
   "source": [
    "data=data.rename(columns={\"Close_Bid_Quote_Linear_Interpolation\": \"Close_Bid_Quote\"}, errors=\"raise\")"
   ]
  },
  {
   "cell_type": "code",
   "execution_count": 13,
   "metadata": {},
   "outputs": [
    {
     "data": {
      "text/html": [
       "<div>\n",
       "<style scoped>\n",
       "    .dataframe tbody tr th:only-of-type {\n",
       "        vertical-align: middle;\n",
       "    }\n",
       "\n",
       "    .dataframe tbody tr th {\n",
       "        vertical-align: top;\n",
       "    }\n",
       "\n",
       "    .dataframe thead th {\n",
       "        text-align: right;\n",
       "    }\n",
       "</style>\n",
       "<table border=\"1\" class=\"dataframe\">\n",
       "  <thead>\n",
       "    <tr style=\"text-align: right;\">\n",
       "      <th></th>\n",
       "      <th>Close_Bid_Quote</th>\n",
       "    </tr>\n",
       "    <tr>\n",
       "      <th>Timestamp</th>\n",
       "      <th></th>\n",
       "    </tr>\n",
       "  </thead>\n",
       "  <tbody>\n",
       "    <tr>\n",
       "      <th>2010-01-03 17:00:00</th>\n",
       "      <td>1.0369</td>\n",
       "    </tr>\n",
       "    <tr>\n",
       "      <th>2010-01-03 18:00:00</th>\n",
       "      <td>1.0361</td>\n",
       "    </tr>\n",
       "    <tr>\n",
       "      <th>2010-01-03 19:00:00</th>\n",
       "      <td>1.0374</td>\n",
       "    </tr>\n",
       "    <tr>\n",
       "      <th>2010-01-03 20:00:00</th>\n",
       "      <td>1.0395</td>\n",
       "    </tr>\n",
       "    <tr>\n",
       "      <th>2010-01-03 21:00:00</th>\n",
       "      <td>1.0388</td>\n",
       "    </tr>\n",
       "  </tbody>\n",
       "</table>\n",
       "</div>"
      ],
      "text/plain": [
       "                     Close_Bid_Quote\n",
       "Timestamp                           \n",
       "2010-01-03 17:00:00           1.0369\n",
       "2010-01-03 18:00:00           1.0361\n",
       "2010-01-03 19:00:00           1.0374\n",
       "2010-01-03 20:00:00           1.0395\n",
       "2010-01-03 21:00:00           1.0388"
      ]
     },
     "execution_count": 13,
     "metadata": {},
     "output_type": "execute_result"
    }
   ],
   "source": [
    "data.head()"
   ]
  },
  {
   "cell_type": "code",
   "execution_count": 14,
   "metadata": {},
   "outputs": [],
   "source": [
    "train_len = int(len(data['Close_Bid_Quote'])*80/100)\n",
    "train = data[0:train_len] # first 120 months as training set\n",
    "test = data[train_len:] # last 24"
   ]
  },
  {
   "cell_type": "code",
   "execution_count": 15,
   "metadata": {},
   "outputs": [
    {
     "data": {
      "text/plain": [
       "20143"
      ]
     },
     "execution_count": 15,
     "metadata": {},
     "output_type": "execute_result"
    }
   ],
   "source": [
    "len(test)"
   ]
  },
  {
   "cell_type": "code",
   "execution_count": 16,
   "metadata": {},
   "outputs": [
    {
     "data": {
      "text/plain": [
       "80568"
      ]
     },
     "execution_count": 16,
     "metadata": {},
     "output_type": "execute_result"
    }
   ],
   "source": [
    "len(train)"
   ]
  },
  {
   "cell_type": "code",
   "execution_count": 17,
   "metadata": {},
   "outputs": [
    {
     "data": {
      "text/plain": [
       "80569"
      ]
     },
     "execution_count": 17,
     "metadata": {},
     "output_type": "execute_result"
    }
   ],
   "source": [
    "dataset = data.values\n",
    "training_data_len = int(np.ceil( len(dataset) * .80 ))\n",
    "training_data_len"
   ]
  },
  {
   "cell_type": "code",
   "execution_count": 18,
   "metadata": {},
   "outputs": [
    {
     "data": {
      "text/plain": [
       "array([[0.69931157],\n",
       "       [0.69753498],\n",
       "       [0.70042194],\n",
       "       ...,\n",
       "       [0.45278703],\n",
       "       [0.45285365],\n",
       "       [0.45258716]])"
      ]
     },
     "execution_count": 18,
     "metadata": {},
     "output_type": "execute_result"
    }
   ],
   "source": [
    "# Scale the data\n",
    "from sklearn.preprocessing import MinMaxScaler\n",
    "\n",
    "scaler = MinMaxScaler(feature_range=(0,1))\n",
    "scaled_data = scaler.fit_transform(dataset)\n",
    "\n",
    "scaled_data"
   ]
  },
  {
   "cell_type": "code",
   "execution_count": 19,
   "metadata": {},
   "outputs": [],
   "source": [
    "train_data = scaled_data[0:int(training_data_len), :]\n",
    "# Split the data into x_train and y_train data sets"
   ]
  },
  {
   "cell_type": "code",
   "execution_count": 20,
   "metadata": {},
   "outputs": [
    {
     "name": "stdout",
     "output_type": "stream",
     "text": [
      "[array([0.69931157, 0.69753498, 0.70042194, 0.7050855 , 0.70353098,\n",
      "       0.70219853, 0.70019987, 0.70042194, 0.70153231, 0.70997113,\n",
      "       0.70375305, 0.69997779, 0.69509216, 0.69531423, 0.69264934,\n",
      "       0.69153897, 0.68465467, 0.68731956, 0.68243393, 0.68287808,\n",
      "       0.68310016, 0.68243393, 0.6835443 , 0.68465467, 0.68376638,\n",
      "       0.68421053, 0.68287808, 0.68198978, 0.68221186, 0.68154564,\n",
      "       0.68154564, 0.68221186, 0.67999112, 0.67954697, 0.68665334,\n",
      "       0.6844326 , 0.68332223, 0.68665334, 0.68487675, 0.68487675,\n",
      "       0.6904286 , 0.68798579, 0.69109483, 0.69109483, 0.69642461,\n",
      "       0.69487009, 0.69264934, 0.69198312, 0.69264934, 0.69375972,\n",
      "       0.69598046, 0.69442594, 0.6922052 , 0.69464801, 0.69420386,\n",
      "       0.69575838, 0.70064402, 0.70064402, 0.69753498, 0.69331557])]\n",
      "[0.6935376415722851]\n",
      "\n",
      "[array([0.69931157, 0.69753498, 0.70042194, 0.7050855 , 0.70353098,\n",
      "       0.70219853, 0.70019987, 0.70042194, 0.70153231, 0.70997113,\n",
      "       0.70375305, 0.69997779, 0.69509216, 0.69531423, 0.69264934,\n",
      "       0.69153897, 0.68465467, 0.68731956, 0.68243393, 0.68287808,\n",
      "       0.68310016, 0.68243393, 0.6835443 , 0.68465467, 0.68376638,\n",
      "       0.68421053, 0.68287808, 0.68198978, 0.68221186, 0.68154564,\n",
      "       0.68154564, 0.68221186, 0.67999112, 0.67954697, 0.68665334,\n",
      "       0.6844326 , 0.68332223, 0.68665334, 0.68487675, 0.68487675,\n",
      "       0.6904286 , 0.68798579, 0.69109483, 0.69109483, 0.69642461,\n",
      "       0.69487009, 0.69264934, 0.69198312, 0.69264934, 0.69375972,\n",
      "       0.69598046, 0.69442594, 0.6922052 , 0.69464801, 0.69420386,\n",
      "       0.69575838, 0.70064402, 0.70064402, 0.69753498, 0.69331557]), array([0.69753498, 0.70042194, 0.7050855 , 0.70353098, 0.70219853,\n",
      "       0.70019987, 0.70042194, 0.70153231, 0.70997113, 0.70375305,\n",
      "       0.69997779, 0.69509216, 0.69531423, 0.69264934, 0.69153897,\n",
      "       0.68465467, 0.68731956, 0.68243393, 0.68287808, 0.68310016,\n",
      "       0.68243393, 0.6835443 , 0.68465467, 0.68376638, 0.68421053,\n",
      "       0.68287808, 0.68198978, 0.68221186, 0.68154564, 0.68154564,\n",
      "       0.68221186, 0.67999112, 0.67954697, 0.68665334, 0.6844326 ,\n",
      "       0.68332223, 0.68665334, 0.68487675, 0.68487675, 0.6904286 ,\n",
      "       0.68798579, 0.69109483, 0.69109483, 0.69642461, 0.69487009,\n",
      "       0.69264934, 0.69198312, 0.69264934, 0.69375972, 0.69598046,\n",
      "       0.69442594, 0.6922052 , 0.69464801, 0.69420386, 0.69575838,\n",
      "       0.70064402, 0.70064402, 0.69753498, 0.69331557, 0.69353764])]\n",
      "[0.6935376415722851, 0.6913168998445482]\n",
      "\n"
     ]
    }
   ],
   "source": [
    "# Create the training data set \n",
    "# Create the scaled training data set\n",
    "\n",
    "x_train = []\n",
    "y_train = []\n",
    "\n",
    "for i in range(60, len(train_data)):\n",
    "    x_train.append(train_data[i-60:i, 0])\n",
    "    y_train.append(train_data[i, 0])\n",
    "    if i<= 61:\n",
    "        print(x_train)\n",
    "        print(y_train)\n",
    "        print()\n",
    "        \n",
    "# Convert the x_train and y_train to numpy arrays \n",
    "x_train, y_train = np.array(x_train), np.array(y_train)\n",
    "\n",
    "# Reshape the data\n",
    "x_train = np.reshape(x_train, (x_train.shape[0], x_train.shape[1], 1))\n",
    "# x_train.shape"
   ]
  },
  {
   "cell_type": "code",
   "execution_count": 21,
   "metadata": {},
   "outputs": [
    {
     "name": "stdout",
     "output_type": "stream",
     "text": [
      "Epoch 1/10\n",
      "2516/2516 [==============================] - 220s 85ms/step - loss: 0.0028\n",
      "Epoch 2/10\n",
      "2516/2516 [==============================] - 182s 72ms/step - loss: 3.1496e-05\n",
      "Epoch 3/10\n",
      "2516/2516 [==============================] - 157s 63ms/step - loss: 2.3944e-05\n",
      "Epoch 4/10\n",
      "2516/2516 [==============================] - 261s 104ms/step - loss: 1.8749e-05s - loss: 1.8\n",
      "Epoch 5/10\n",
      "2516/2516 [==============================] - 252s 100ms/step - loss: 1.2491e-05\n",
      "Epoch 6/10\n",
      "2516/2516 [==============================] - 221s 88ms/step - loss: 8.9653e-06\n",
      "Epoch 7/10\n",
      "2516/2516 [==============================] - 224s 89ms/step - loss: 1.1663e-05\n",
      "Epoch 8/10\n",
      "2516/2516 [==============================] - 232s 92ms/step - loss: 1.0261e-05\n",
      "Epoch 9/10\n",
      "2516/2516 [==============================] - 237s 94ms/step - loss: 1.0586e-05\n",
      "Epoch 10/10\n",
      "2516/2516 [==============================] - 231s 92ms/step - loss: 9.3687e-06\n"
     ]
    },
    {
     "data": {
      "text/plain": [
       "<tensorflow.python.keras.callbacks.History at 0x20bf88f2108>"
      ]
     },
     "execution_count": 21,
     "metadata": {},
     "output_type": "execute_result"
    }
   ],
   "source": [
    "from keras.models import Sequential\n",
    "from keras.layers import Dense, LSTM\n",
    "\n",
    "# Build the LSTM model\n",
    "model = Sequential()\n",
    "model.add(LSTM(128, return_sequences=True, input_shape= (x_train.shape[1], 1)))\n",
    "model.add(LSTM(64, return_sequences=False))\n",
    "model.add(Dense(25))\n",
    "model.add(Dense(1))\n",
    "\n",
    "# Compile the model\n",
    "model.compile(optimizer='adam', loss='mean_squared_error')\n",
    "\n",
    "# Train the model\n",
    "model.fit(x_train, y_train, batch_size=32, epochs=10)"
   ]
  },
  {
   "cell_type": "code",
   "execution_count": 22,
   "metadata": {},
   "outputs": [
    {
     "data": {
      "text/plain": [
       "0.0008035045986806537"
      ]
     },
     "execution_count": 22,
     "metadata": {},
     "output_type": "execute_result"
    }
   ],
   "source": [
    "# Create the testing data set\n",
    "# Create a new array containing scaled values from index 1543 to 2002 \n",
    "test_data = scaled_data[training_data_len - 60: , :]\n",
    "# Create the data sets x_test and y_test\n",
    "x_test = []\n",
    "y_test = dataset[training_data_len:, :]\n",
    "for i in range(60, len(test_data)):\n",
    "    x_test.append(test_data[i-60:i, 0])\n",
    "    \n",
    "# Convert the data to a numpy array\n",
    "x_test = np.array(x_test)\n",
    "\n",
    "# Reshape the data\n",
    "x_test = np.reshape(x_test, (x_test.shape[0], x_test.shape[1], 1 ))\n",
    "\n",
    "# Get the models predicted price values \n",
    "predictions = model.predict(x_test)\n",
    "predictions = scaler.inverse_transform(predictions)\n",
    "\n",
    "# Get the root mean squared error (RMSE)\n",
    "rmse = np.sqrt(np.mean(((predictions - y_test) ** 2)))\n",
    "rmse"
   ]
  },
  {
   "cell_type": "code",
   "execution_count": 23,
   "metadata": {},
   "outputs": [
    {
     "name": "stderr",
     "output_type": "stream",
     "text": [
      "C:\\Users\\Hitesh\\AppData\\Local\\Continuum\\anaconda3\\lib\\site-packages\\ipykernel_launcher.py:4: SettingWithCopyWarning: \n",
      "A value is trying to be set on a copy of a slice from a DataFrame.\n",
      "Try using .loc[row_indexer,col_indexer] = value instead\n",
      "\n",
      "See the caveats in the documentation: https://pandas.pydata.org/pandas-docs/stable/user_guide/indexing.html#returning-a-view-versus-a-copy\n",
      "  after removing the cwd from sys.path.\n"
     ]
    },
    {
     "data": {
      "image/png": "[encoded data removed]",
      "text/plain": [
       "<Figure size 1152x432 with 1 Axes>"
      ]
     },
     "metadata": {
      "needs_background": "light"
     },
     "output_type": "display_data"
    }
   ],
   "source": [
    "# Plot the data\n",
    "train = data[:training_data_len]\n",
    "valid = data[training_data_len:]\n",
    "valid['Predictions'] = predictions\n",
    "# Visualize the data\n",
    "plt.figure(figsize=(16,6))\n",
    "plt.title('LSTM Model - USD-CHF')\n",
    "plt.xlabel('Date', fontsize=18)\n",
    "plt.ylabel('Close_Bid_Quote', fontsize=18)\n",
    "plt.plot(train['Close_Bid_Quote'])\n",
    "plt.plot(valid[['Close_Bid_Quote', 'Predictions']])\n",
    "plt.legend(['Train', 'Test', 'Predictions'], loc='lower right')\n",
    "plt.show()"
   ]
  },
  {
   "cell_type": "code",
   "execution_count": 24,
   "metadata": {},
   "outputs": [
    {
     "data": {
      "text/html": [
       "<div>\n",
       "<style scoped>\n",
       "    .dataframe tbody tr th:only-of-type {\n",
       "        vertical-align: middle;\n",
       "    }\n",
       "\n",
       "    .dataframe tbody tr th {\n",
       "        vertical-align: top;\n",
       "    }\n",
       "\n",
       "    .dataframe thead th {\n",
       "        text-align: right;\n",
       "    }\n",
       "</style>\n",
       "<table border=\"1\" class=\"dataframe\">\n",
       "  <thead>\n",
       "    <tr style=\"text-align: right;\">\n",
       "      <th></th>\n",
       "      <th>Close_Bid_Quote</th>\n",
       "      <th>Predictions</th>\n",
       "    </tr>\n",
       "    <tr>\n",
       "      <th>Timestamp</th>\n",
       "      <th></th>\n",
       "      <th></th>\n",
       "    </tr>\n",
       "  </thead>\n",
       "  <tbody>\n",
       "    <tr>\n",
       "      <th>2019-03-14 18:00:00</th>\n",
       "      <td>1.00377</td>\n",
       "      <td>1.003015</td>\n",
       "    </tr>\n",
       "    <tr>\n",
       "      <th>2019-03-14 19:00:00</th>\n",
       "      <td>1.00403</td>\n",
       "      <td>1.002931</td>\n",
       "    </tr>\n",
       "    <tr>\n",
       "      <th>2019-03-14 20:00:00</th>\n",
       "      <td>1.00394</td>\n",
       "      <td>1.003255</td>\n",
       "    </tr>\n",
       "    <tr>\n",
       "      <th>2019-03-14 21:00:00</th>\n",
       "      <td>1.00368</td>\n",
       "      <td>1.003135</td>\n",
       "    </tr>\n",
       "    <tr>\n",
       "      <th>2019-03-14 22:00:00</th>\n",
       "      <td>1.00283</td>\n",
       "      <td>1.002823</td>\n",
       "    </tr>\n",
       "    <tr>\n",
       "      <th>...</th>\n",
       "      <td>...</td>\n",
       "      <td>...</td>\n",
       "    </tr>\n",
       "    <tr>\n",
       "      <th>2021-06-30 19:00:00</th>\n",
       "      <td>0.92517</td>\n",
       "      <td>0.925010</td>\n",
       "    </tr>\n",
       "    <tr>\n",
       "      <th>2021-06-30 20:00:00</th>\n",
       "      <td>0.92590</td>\n",
       "      <td>0.924848</td>\n",
       "    </tr>\n",
       "    <tr>\n",
       "      <th>2021-06-30 21:00:00</th>\n",
       "      <td>0.92589</td>\n",
       "      <td>0.925679</td>\n",
       "    </tr>\n",
       "    <tr>\n",
       "      <th>2021-06-30 22:00:00</th>\n",
       "      <td>0.92592</td>\n",
       "      <td>0.925674</td>\n",
       "    </tr>\n",
       "    <tr>\n",
       "      <th>2021-06-30 23:00:00</th>\n",
       "      <td>0.92580</td>\n",
       "      <td>0.925672</td>\n",
       "    </tr>\n",
       "  </tbody>\n",
       "</table>\n",
       "<p>20142 rows × 2 columns</p>\n",
       "</div>"
      ],
      "text/plain": [
       "                     Close_Bid_Quote  Predictions\n",
       "Timestamp                                        \n",
       "2019-03-14 18:00:00          1.00377     1.003015\n",
       "2019-03-14 19:00:00          1.00403     1.002931\n",
       "2019-03-14 20:00:00          1.00394     1.003255\n",
       "2019-03-14 21:00:00          1.00368     1.003135\n",
       "2019-03-14 22:00:00          1.00283     1.002823\n",
       "...                              ...          ...\n",
       "2021-06-30 19:00:00          0.92517     0.925010\n",
       "2021-06-30 20:00:00          0.92590     0.924848\n",
       "2021-06-30 21:00:00          0.92589     0.925679\n",
       "2021-06-30 22:00:00          0.92592     0.925674\n",
       "2021-06-30 23:00:00          0.92580     0.925672\n",
       "\n",
       "[20142 rows x 2 columns]"
      ]
     },
     "execution_count": 24,
     "metadata": {},
     "output_type": "execute_result"
    }
   ],
   "source": [
    "# Show the valid and predicted prices\n",
    "valid"
   ]
  },
  {
   "cell_type": "code",
   "execution_count": null,
   "metadata": {},
   "outputs": [],
   "source": []
  },
  {
   "cell_type": "code",
   "execution_count": null,
   "metadata": {},
   "outputs": [],
   "source": []
  }
 ],
 "metadata": {
  "kernelspec": {
   "display_name": "Python 3",
   "language": "python",
   "name": "python3"
  },
  "language_info": {
   "codemirror_mode": {
    "name": "ipython",
    "version": 3
   },
   "file_extension": ".py",
   "mimetype": "text/x-python",
   "name": "python",
   "nbconvert_exporter": "python",
   "pygments_lexer": "ipython3",
   "version": "3.7.4"
  }
 },
 "nbformat": 4,
 "nbformat_minor": 2
}
