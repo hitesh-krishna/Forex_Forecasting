{
 "cells": [
  {
   "cell_type": "code",
   "execution_count": 1,
   "metadata": {},
   "outputs": [
    {
     "name": "stderr",
     "output_type": "stream",
     "text": [
      "C:\\Users\\Hitesh\\AppData\\Local\\Continuum\\anaconda3\\lib\\site-packages\\statsmodels\\tools\\_testing.py:19: FutureWarning: pandas.util.testing is deprecated. Use the functions in the public API at pandas.testing instead.\n",
      "  import pandas.util.testing as tm\n"
     ]
    }
   ],
   "source": [
    "# Let`s import all packages that we may need:\n",
    "\n",
    "import sys \n",
    "import numpy as np # linear algebra\n",
    "from scipy.stats import randint\n",
    "import pandas as pd # data processing, CSV file I/O (e.g. pd.read_csv), data manipulation as in SQL\n",
    "import matplotlib.pyplot as plt # this is used for the plot the graph \n",
    "import seaborn as sns # used for plot interactive graph. \n",
    "from sklearn.model_selection import train_test_split # to split the data into two parts\n",
    "#from sklearn.cross_validation import KFold # use for cross validation\n",
    "from sklearn.preprocessing import StandardScaler # for normalization\n",
    "from sklearn.preprocessing import MinMaxScaler\n",
    "from sklearn.pipeline import Pipeline # pipeline making\n",
    "from sklearn.model_selection import cross_val_score\n",
    "from sklearn.feature_selection import SelectFromModel\n",
    "from sklearn import metrics # for the check the error and accuracy of the model\n",
    "from sklearn.metrics import mean_squared_error,r2_score\n",
    "\n",
    "## for Deep-learing:\n",
    "import keras\n",
    "from keras.layers import Dense\n",
    "from keras.models import Sequential\n",
    "from keras.utils import to_categorical\n",
    "from keras.optimizers import SGD \n",
    "from keras.callbacks import EarlyStopping\n",
    "from keras.utils import np_utils\n",
    "import itertools\n",
    "from keras.layers import LSTM\n",
    "from keras.layers.convolutional import Conv1D\n",
    "from keras.layers.convolutional import MaxPooling1D\n",
    "from keras.layers import Dropout\n",
    "from tensorflow.keras.callbacks import ModelCheckpoint, EarlyStopping\n",
    "\n",
    "import seaborn as sns\n",
    "sns.set_style('whitegrid')\n",
    "plt.style.use(\"fivethirtyeight\")\n",
    "%matplotlib inline\n",
    "\n",
    "# For time stamps\n",
    "from datetime import datetime"
   ]
  },
  {
   "cell_type": "code",
   "execution_count": 2,
   "metadata": {},
   "outputs": [],
   "source": [
    "import pandas as pd\n",
    "import glob\n",
    "\n",
    "path = r'C:/Users/Hitesh/Desktop/LJMU/Forex Implementation/USD CAD/Data/' \n",
    "all_files = glob.glob(path + \"/*.csv\")\n",
    "\n",
    "li = []\n",
    "\n",
    "for filename in all_files:\n",
    "    df = pd.read_csv(filename, index_col=None, header=0)\n",
    "    df.columns = ['Index','Timestamp','Open_Bid_Quote','High_Bid_Quote','Low_Bid_Quote','Close_Bid_Quote','Volume']\n",
    "    df.drop(columns=['Index','Volume','Open_Bid_Quote','High_Bid_Quote','Low_Bid_Quote'],inplace=True)\n",
    "    li.append(df)\n",
    "\n",
    "data = pd.concat(li, axis=0, ignore_index=True)"
   ]
  },
  {
   "cell_type": "code",
   "execution_count": 3,
   "metadata": {},
   "outputs": [
    {
     "data": {
      "text/plain": [
       "<matplotlib.axes._subplots.AxesSubplot at 0x22795fabe08>"
      ]
     },
     "execution_count": 3,
     "metadata": {},
     "output_type": "execute_result"
    },
    {
     "data": {
      "text/plain": [
       "<Figure size 1440x360 with 0 Axes>"
      ]
     },
     "metadata": {},
     "output_type": "display_data"
    },
    {
     "data": {
      "image/png": "[encoded data removed]",
      "text/plain": [
       "<Figure size 432x288 with 1 Axes>"
      ]
     },
     "metadata": {
      "needs_background": "light"
     },
     "output_type": "display_data"
    }
   ],
   "source": [
    "plt.figure(figsize=(20,5))\n",
    "data.plot()"
   ]
  },
  {
   "cell_type": "code",
   "execution_count": 4,
   "metadata": {},
   "outputs": [
    {
     "data": {
      "text/plain": [
       "<bound method NDFrame.head of                    Timestamp  Close_Bid_Quote\n",
       "0        2010-01-03 17:02:00          1.05170\n",
       "1        2010-01-03 17:04:00          1.05180\n",
       "2        2010-01-03 17:08:00          1.05170\n",
       "3        2010-01-03 17:09:00          1.05150\n",
       "4        2010-01-03 17:14:00          1.05050\n",
       "...                      ...              ...\n",
       "4138046  2021-06-30 23:54:00          1.23983\n",
       "4138047  2021-06-30 23:55:00          1.23984\n",
       "4138048  2021-06-30 23:56:00          1.23968\n",
       "4138049  2021-06-30 23:57:00          1.23959\n",
       "4138050  2021-06-30 23:58:00          1.23965\n",
       "\n",
       "[4138051 rows x 2 columns]>"
      ]
     },
     "execution_count": 4,
     "metadata": {},
     "output_type": "execute_result"
    }
   ],
   "source": [
    "data.head"
   ]
  },
  {
   "cell_type": "code",
   "execution_count": 5,
   "metadata": {},
   "outputs": [
    {
     "data": {
      "text/plain": [
       "'2010-01-03 17:02:00'"
      ]
     },
     "execution_count": 5,
     "metadata": {},
     "output_type": "execute_result"
    }
   ],
   "source": [
    "data['Timestamp'].min()"
   ]
  },
  {
   "cell_type": "code",
   "execution_count": 6,
   "metadata": {},
   "outputs": [
    {
     "data": {
      "text/plain": [
       "'2021-06-30 23:58:00'"
      ]
     },
     "execution_count": 6,
     "metadata": {},
     "output_type": "execute_result"
    }
   ],
   "source": [
    "data['Timestamp'].max()"
   ]
  },
  {
   "cell_type": "code",
   "execution_count": 7,
   "metadata": {},
   "outputs": [],
   "source": [
    "from datetime import datetime                                              \n",
    "data['Timestamp'] = pd.to_datetime(data['Timestamp'])\n",
    "data = data.set_index('Timestamp')"
   ]
  },
  {
   "cell_type": "code",
   "execution_count": 8,
   "metadata": {},
   "outputs": [],
   "source": [
    "data = data.resample(\"H\").max()"
   ]
  },
  {
   "cell_type": "code",
   "execution_count": 9,
   "metadata": {},
   "outputs": [
    {
     "data": {
      "text/plain": [
       "Index(['Close_Bid_Quote'], dtype='object')"
      ]
     },
     "execution_count": 9,
     "metadata": {},
     "output_type": "execute_result"
    }
   ],
   "source": [
    "data.columns"
   ]
  },
  {
   "cell_type": "code",
   "execution_count": 10,
   "metadata": {},
   "outputs": [
    {
     "data": {
      "image/png": "[encoded data removed]",
      "text/plain": [
       "<Figure size 864x288 with 1 Axes>"
      ]
     },
     "metadata": {
      "needs_background": "light"
     },
     "output_type": "display_data"
    }
   ],
   "source": [
    "data = data.assign(Close_Bid_Quote_Linear_Interpolation=data.Close_Bid_Quote.interpolate(method='linear'))\n",
    "data[['Close_Bid_Quote_Linear_Interpolation']].plot(figsize=(12, 4))\n",
    "plt.legend(loc='best')\n",
    "plt.title('USD-CAD Chart: Linear imputation')\n",
    "plt.show(block=False)"
   ]
  },
  {
   "cell_type": "code",
   "execution_count": 11,
   "metadata": {},
   "outputs": [],
   "source": [
    "data.drop(columns=['Close_Bid_Quote'],inplace=True)"
   ]
  },
  {
   "cell_type": "code",
   "execution_count": 12,
   "metadata": {},
   "outputs": [],
   "source": [
    "data=data.rename(columns={\"Close_Bid_Quote_Linear_Interpolation\": \"Close_Bid_Quote\"}, errors=\"raise\")"
   ]
  },
  {
   "cell_type": "code",
   "execution_count": 13,
   "metadata": {},
   "outputs": [
    {
     "data": {
      "text/html": [
       "<div>\n",
       "<style scoped>\n",
       "    .dataframe tbody tr th:only-of-type {\n",
       "        vertical-align: middle;\n",
       "    }\n",
       "\n",
       "    .dataframe tbody tr th {\n",
       "        vertical-align: top;\n",
       "    }\n",
       "\n",
       "    .dataframe thead th {\n",
       "        text-align: right;\n",
       "    }\n",
       "</style>\n",
       "<table border=\"1\" class=\"dataframe\">\n",
       "  <thead>\n",
       "    <tr style=\"text-align: right;\">\n",
       "      <th></th>\n",
       "      <th>Close_Bid_Quote</th>\n",
       "    </tr>\n",
       "    <tr>\n",
       "      <th>Timestamp</th>\n",
       "      <th></th>\n",
       "    </tr>\n",
       "  </thead>\n",
       "  <tbody>\n",
       "    <tr>\n",
       "      <th>2010-01-03 17:00:00</th>\n",
       "      <td>1.0518</td>\n",
       "    </tr>\n",
       "    <tr>\n",
       "      <th>2010-01-03 18:00:00</th>\n",
       "      <td>1.0480</td>\n",
       "    </tr>\n",
       "    <tr>\n",
       "      <th>2010-01-03 19:00:00</th>\n",
       "      <td>1.0498</td>\n",
       "    </tr>\n",
       "    <tr>\n",
       "      <th>2010-01-03 20:00:00</th>\n",
       "      <td>1.0516</td>\n",
       "    </tr>\n",
       "    <tr>\n",
       "      <th>2010-01-03 21:00:00</th>\n",
       "      <td>1.0489</td>\n",
       "    </tr>\n",
       "  </tbody>\n",
       "</table>\n",
       "</div>"
      ],
      "text/plain": [
       "                     Close_Bid_Quote\n",
       "Timestamp                           \n",
       "2010-01-03 17:00:00           1.0518\n",
       "2010-01-03 18:00:00           1.0480\n",
       "2010-01-03 19:00:00           1.0498\n",
       "2010-01-03 20:00:00           1.0516\n",
       "2010-01-03 21:00:00           1.0489"
      ]
     },
     "execution_count": 13,
     "metadata": {},
     "output_type": "execute_result"
    }
   ],
   "source": [
    "data.head()"
   ]
  },
  {
   "cell_type": "code",
   "execution_count": 14,
   "metadata": {},
   "outputs": [],
   "source": [
    "train_len = int(len(data['Close_Bid_Quote'])*80/100)\n",
    "train = data[0:train_len] # first 120 months as training set\n",
    "test = data[train_len:] # last 24"
   ]
  },
  {
   "cell_type": "code",
   "execution_count": 15,
   "metadata": {},
   "outputs": [
    {
     "data": {
      "text/plain": [
       "20143"
      ]
     },
     "execution_count": 15,
     "metadata": {},
     "output_type": "execute_result"
    }
   ],
   "source": [
    "len(test)"
   ]
  },
  {
   "cell_type": "code",
   "execution_count": 16,
   "metadata": {},
   "outputs": [
    {
     "data": {
      "text/plain": [
       "80568"
      ]
     },
     "execution_count": 16,
     "metadata": {},
     "output_type": "execute_result"
    }
   ],
   "source": [
    "len(train)"
   ]
  },
  {
   "cell_type": "code",
   "execution_count": 17,
   "metadata": {},
   "outputs": [
    {
     "data": {
      "text/plain": [
       "80569"
      ]
     },
     "execution_count": 17,
     "metadata": {},
     "output_type": "execute_result"
    }
   ],
   "source": [
    "dataset = data.values\n",
    "training_data_len = int(np.ceil( len(dataset) * .80 ))\n",
    "training_data_len"
   ]
  },
  {
   "cell_type": "code",
   "execution_count": 18,
   "metadata": {},
   "outputs": [
    {
     "data": {
      "text/plain": [
       "array([[0.20824237],\n",
       "       [0.20102887],\n",
       "       [0.20444579],\n",
       "       ...,\n",
       "       [0.56713301],\n",
       "       [0.56675336],\n",
       "       [0.56616489]])"
      ]
     },
     "execution_count": 18,
     "metadata": {},
     "output_type": "execute_result"
    }
   ],
   "source": [
    "# Scale the data\n",
    "from sklearn.preprocessing import MinMaxScaler\n",
    "\n",
    "scaler = MinMaxScaler(feature_range=(0,1))\n",
    "scaled_data = scaler.fit_transform(dataset)\n",
    "\n",
    "scaled_data"
   ]
  },
  {
   "cell_type": "code",
   "execution_count": 19,
   "metadata": {},
   "outputs": [],
   "source": [
    "train_data = scaled_data[0:int(training_data_len), :]\n",
    "# Split the data into x_train and y_train data sets"
   ]
  },
  {
   "cell_type": "code",
   "execution_count": 20,
   "metadata": {},
   "outputs": [
    {
     "name": "stdout",
     "output_type": "stream",
     "text": [
      "[array([0.20824237, 0.20102887, 0.20444579, 0.20786272, 0.20273733,\n",
      "       0.20026956, 0.19875093, 0.19875093, 0.20083904, 0.20235768,\n",
      "       0.19628315, 0.18906965, 0.18660187, 0.1854629 , 0.18622221,\n",
      "       0.18660187, 0.1854629 , 0.18622221, 0.18375444, 0.18489341,\n",
      "       0.1881205 , 0.19001879, 0.19039845, 0.19039845, 0.18868999,\n",
      "       0.18944931, 0.18755102, 0.18755102, 0.18698153, 0.18451375,\n",
      "       0.18470358, 0.18603238, 0.18280529, 0.18185615, 0.18755102,\n",
      "       0.18375444, 0.18261546, 0.18375444, 0.17843923, 0.18223581,\n",
      "       0.1841341 , 0.18242563, 0.18375444, 0.18337478, 0.18622221,\n",
      "       0.18698153, 0.1854629 , 0.18508324, 0.18489341, 0.18622221,\n",
      "       0.18698153, 0.18451375, 0.18280529, 0.18147649, 0.18128666,\n",
      "       0.18242563, 0.18698153, 0.18660187, 0.18508324, 0.18356461])]\n",
      "[0.18451375310844886]\n",
      "\n",
      "[array([0.20824237, 0.20102887, 0.20444579, 0.20786272, 0.20273733,\n",
      "       0.20026956, 0.19875093, 0.19875093, 0.20083904, 0.20235768,\n",
      "       0.19628315, 0.18906965, 0.18660187, 0.1854629 , 0.18622221,\n",
      "       0.18660187, 0.1854629 , 0.18622221, 0.18375444, 0.18489341,\n",
      "       0.1881205 , 0.19001879, 0.19039845, 0.19039845, 0.18868999,\n",
      "       0.18944931, 0.18755102, 0.18755102, 0.18698153, 0.18451375,\n",
      "       0.18470358, 0.18603238, 0.18280529, 0.18185615, 0.18755102,\n",
      "       0.18375444, 0.18261546, 0.18375444, 0.17843923, 0.18223581,\n",
      "       0.1841341 , 0.18242563, 0.18375444, 0.18337478, 0.18622221,\n",
      "       0.18698153, 0.1854629 , 0.18508324, 0.18489341, 0.18622221,\n",
      "       0.18698153, 0.18451375, 0.18280529, 0.18147649, 0.18128666,\n",
      "       0.18242563, 0.18698153, 0.18660187, 0.18508324, 0.18356461]), array([0.20102887, 0.20444579, 0.20786272, 0.20273733, 0.20026956,\n",
      "       0.19875093, 0.19875093, 0.20083904, 0.20235768, 0.19628315,\n",
      "       0.18906965, 0.18660187, 0.1854629 , 0.18622221, 0.18660187,\n",
      "       0.1854629 , 0.18622221, 0.18375444, 0.18489341, 0.1881205 ,\n",
      "       0.19001879, 0.19039845, 0.19039845, 0.18868999, 0.18944931,\n",
      "       0.18755102, 0.18755102, 0.18698153, 0.18451375, 0.18470358,\n",
      "       0.18603238, 0.18280529, 0.18185615, 0.18755102, 0.18375444,\n",
      "       0.18261546, 0.18375444, 0.17843923, 0.18223581, 0.1841341 ,\n",
      "       0.18242563, 0.18375444, 0.18337478, 0.18622221, 0.18698153,\n",
      "       0.1854629 , 0.18508324, 0.18489341, 0.18622221, 0.18698153,\n",
      "       0.18451375, 0.18280529, 0.18147649, 0.18128666, 0.18242563,\n",
      "       0.18698153, 0.18660187, 0.18508324, 0.18356461, 0.18451375])]\n",
      "[0.18451375310844886, 0.18185614761100255]\n",
      "\n"
     ]
    }
   ],
   "source": [
    "# Create the training data set \n",
    "# Create the scaled training data set\n",
    "\n",
    "x_train = []\n",
    "y_train = []\n",
    "\n",
    "for i in range(60, len(train_data)):\n",
    "    x_train.append(train_data[i-60:i, 0])\n",
    "    y_train.append(train_data[i, 0])\n",
    "    if i<= 61:\n",
    "        print(x_train)\n",
    "        print(y_train)\n",
    "        print()\n",
    "        \n",
    "# Convert the x_train and y_train to numpy arrays \n",
    "x_train, y_train = np.array(x_train), np.array(y_train)\n",
    "\n",
    "# Reshape the data\n",
    "x_train = np.reshape(x_train, (x_train.shape[0], x_train.shape[1], 1))\n",
    "# x_train.shape"
   ]
  },
  {
   "cell_type": "code",
   "execution_count": 21,
   "metadata": {},
   "outputs": [
    {
     "name": "stdout",
     "output_type": "stream",
     "text": [
      "Epoch 1/10\n",
      "2516/2516 [==============================] - 246s 96ms/step - loss: 0.0020\n",
      "Epoch 2/10\n",
      "2516/2516 [==============================] - 254s 101ms/step - loss: 3.2152e-05\n",
      "Epoch 3/10\n",
      "2516/2516 [==============================] - 263s 104ms/step - loss: 2.5706e-05\n",
      "Epoch 4/10\n",
      "2516/2516 [==============================] - 498s 198ms/step - loss: 1.6388e-05\n",
      "Epoch 5/10\n",
      "2516/2516 [==============================] - 258s 102ms/step - loss: 1.1145e-05\n",
      "Epoch 6/10\n",
      "2516/2516 [==============================] - 260s 103ms/step - loss: 1.5491e-05\n",
      "Epoch 7/10\n",
      "2516/2516 [==============================] - 242s 96ms/step - loss: 8.5508e-06\n",
      "Epoch 8/10\n",
      "2516/2516 [==============================] - 259s 103ms/step - loss: 7.1384e-06\n",
      "Epoch 9/10\n",
      "2516/2516 [==============================] - 258s 102ms/step - loss: 6.4841e-06\n",
      "Epoch 10/10\n",
      "2516/2516 [==============================] - 268s 107ms/step - loss: 6.7978e-06\n"
     ]
    },
    {
     "data": {
      "text/plain": [
       "<tensorflow.python.keras.callbacks.History at 0x22787ab92c8>"
      ]
     },
     "execution_count": 21,
     "metadata": {},
     "output_type": "execute_result"
    }
   ],
   "source": [
    "from keras.models import Sequential\n",
    "from keras.layers import Dense, LSTM\n",
    "\n",
    "# Build the LSTM model\n",
    "model = Sequential()\n",
    "model.add(LSTM(128, return_sequences=True, input_shape= (x_train.shape[1], 1)))\n",
    "model.add(LSTM(64, return_sequences=False))\n",
    "model.add(Dense(25))\n",
    "model.add(Dense(1))\n",
    "\n",
    "# Compile the model\n",
    "model.compile(optimizer='adam', loss='mean_squared_error')\n",
    "\n",
    "# Train the model\n",
    "model.fit(x_train, y_train, batch_size=32, epochs=10)"
   ]
  },
  {
   "cell_type": "code",
   "execution_count": 22,
   "metadata": {},
   "outputs": [
    {
     "data": {
      "text/plain": [
       "0.0009155139755261866"
      ]
     },
     "execution_count": 22,
     "metadata": {},
     "output_type": "execute_result"
    }
   ],
   "source": [
    "# Create the testing data set\n",
    "# Create a new array containing scaled values from index 1543 to 2002 \n",
    "test_data = scaled_data[training_data_len - 60: , :]\n",
    "# Create the data sets x_test and y_test\n",
    "x_test = []\n",
    "y_test = dataset[training_data_len:, :]\n",
    "for i in range(60, len(test_data)):\n",
    "    x_test.append(test_data[i-60:i, 0])\n",
    "    \n",
    "# Convert the data to a numpy array\n",
    "x_test = np.array(x_test)\n",
    "\n",
    "# Reshape the data\n",
    "x_test = np.reshape(x_test, (x_test.shape[0], x_test.shape[1], 1 ))\n",
    "\n",
    "# Get the models predicted price values \n",
    "predictions = model.predict(x_test)\n",
    "predictions = scaler.inverse_transform(predictions)\n",
    "\n",
    "# Get the root mean squared error (RMSE)\n",
    "rmse = np.sqrt(np.mean(((predictions - y_test) ** 2)))\n",
    "rmse"
   ]
  },
  {
   "cell_type": "code",
   "execution_count": 26,
   "metadata": {},
   "outputs": [
    {
     "name": "stderr",
     "output_type": "stream",
     "text": [
      "C:\\Users\\Hitesh\\AppData\\Local\\Continuum\\anaconda3\\lib\\site-packages\\ipykernel_launcher.py:4: SettingWithCopyWarning: \n",
      "A value is trying to be set on a copy of a slice from a DataFrame.\n",
      "Try using .loc[row_indexer,col_indexer] = value instead\n",
      "\n",
      "See the caveats in the documentation: https://pandas.pydata.org/pandas-docs/stable/user_guide/indexing.html#returning-a-view-versus-a-copy\n",
      "  after removing the cwd from sys.path.\n"
     ]
    },
    {
     "data": {
      "image/png": "[encoded data removed]",
      "text/plain": [
       "<Figure size 1152x432 with 1 Axes>"
      ]
     },
     "metadata": {
      "needs_background": "light"
     },
     "output_type": "display_data"
    }
   ],
   "source": [
    "# Plot the data\n",
    "train = data[:training_data_len]\n",
    "valid = data[training_data_len:]\n",
    "valid['Predictions'] = predictions\n",
    "# Visualize the data\n",
    "plt.figure(figsize=(16,6))\n",
    "plt.title('LSTM Model - USD-CAD')\n",
    "plt.xlabel('Date', fontsize=18)\n",
    "plt.ylabel('Close_Bid_Quote', fontsize=18)\n",
    "plt.plot(train['Close_Bid_Quote'])\n",
    "plt.plot(valid[['Close_Bid_Quote', 'Predictions']])\n",
    "plt.legend(['Train', 'Test', 'Predictions'], loc='lower right')\n",
    "plt.show()"
   ]
  },
  {
   "cell_type": "code",
   "execution_count": 24,
   "metadata": {},
   "outputs": [
    {
     "data": {
      "text/html": [
       "<div>\n",
       "<style scoped>\n",
       "    .dataframe tbody tr th:only-of-type {\n",
       "        vertical-align: middle;\n",
       "    }\n",
       "\n",
       "    .dataframe tbody tr th {\n",
       "        vertical-align: top;\n",
       "    }\n",
       "\n",
       "    .dataframe thead th {\n",
       "        text-align: right;\n",
       "    }\n",
       "</style>\n",
       "<table border=\"1\" class=\"dataframe\">\n",
       "  <thead>\n",
       "    <tr style=\"text-align: right;\">\n",
       "      <th></th>\n",
       "      <th>Close_Bid_Quote</th>\n",
       "      <th>Predictions</th>\n",
       "    </tr>\n",
       "    <tr>\n",
       "      <th>Timestamp</th>\n",
       "      <th></th>\n",
       "      <th></th>\n",
       "    </tr>\n",
       "  </thead>\n",
       "  <tbody>\n",
       "    <tr>\n",
       "      <th>2019-03-14 18:00:00</th>\n",
       "      <td>1.33305</td>\n",
       "      <td>1.332889</td>\n",
       "    </tr>\n",
       "    <tr>\n",
       "      <th>2019-03-14 19:00:00</th>\n",
       "      <td>1.33272</td>\n",
       "      <td>1.332947</td>\n",
       "    </tr>\n",
       "    <tr>\n",
       "      <th>2019-03-14 20:00:00</th>\n",
       "      <td>1.33307</td>\n",
       "      <td>1.332558</td>\n",
       "    </tr>\n",
       "    <tr>\n",
       "      <th>2019-03-14 21:00:00</th>\n",
       "      <td>1.33263</td>\n",
       "      <td>1.333046</td>\n",
       "    </tr>\n",
       "    <tr>\n",
       "      <th>2019-03-14 22:00:00</th>\n",
       "      <td>1.33142</td>\n",
       "      <td>1.332445</td>\n",
       "    </tr>\n",
       "    <tr>\n",
       "      <th>...</th>\n",
       "      <td>...</td>\n",
       "      <td>...</td>\n",
       "    </tr>\n",
       "    <tr>\n",
       "      <th>2021-06-30 19:00:00</th>\n",
       "      <td>1.23951</td>\n",
       "      <td>1.239728</td>\n",
       "    </tr>\n",
       "    <tr>\n",
       "      <th>2021-06-30 20:00:00</th>\n",
       "      <td>1.24089</td>\n",
       "      <td>1.239285</td>\n",
       "    </tr>\n",
       "    <tr>\n",
       "      <th>2021-06-30 21:00:00</th>\n",
       "      <td>1.24086</td>\n",
       "      <td>1.240940</td>\n",
       "    </tr>\n",
       "    <tr>\n",
       "      <th>2021-06-30 22:00:00</th>\n",
       "      <td>1.24066</td>\n",
       "      <td>1.240656</td>\n",
       "    </tr>\n",
       "    <tr>\n",
       "      <th>2021-06-30 23:00:00</th>\n",
       "      <td>1.24035</td>\n",
       "      <td>1.240447</td>\n",
       "    </tr>\n",
       "  </tbody>\n",
       "</table>\n",
       "<p>20142 rows × 2 columns</p>\n",
       "</div>"
      ],
      "text/plain": [
       "                     Close_Bid_Quote  Predictions\n",
       "Timestamp                                        \n",
       "2019-03-14 18:00:00          1.33305     1.332889\n",
       "2019-03-14 19:00:00          1.33272     1.332947\n",
       "2019-03-14 20:00:00          1.33307     1.332558\n",
       "2019-03-14 21:00:00          1.33263     1.333046\n",
       "2019-03-14 22:00:00          1.33142     1.332445\n",
       "...                              ...          ...\n",
       "2021-06-30 19:00:00          1.23951     1.239728\n",
       "2021-06-30 20:00:00          1.24089     1.239285\n",
       "2021-06-30 21:00:00          1.24086     1.240940\n",
       "2021-06-30 22:00:00          1.24066     1.240656\n",
       "2021-06-30 23:00:00          1.24035     1.240447\n",
       "\n",
       "[20142 rows x 2 columns]"
      ]
     },
     "execution_count": 24,
     "metadata": {},
     "output_type": "execute_result"
    }
   ],
   "source": [
    "# Show the valid and predicted prices\n",
    "valid"
   ]
  },
  {
   "cell_type": "code",
   "execution_count": null,
   "metadata": {},
   "outputs": [],
   "source": []
  },
  {
   "cell_type": "code",
   "execution_count": null,
   "metadata": {},
   "outputs": [],
   "source": []
  }
 ],
 "metadata": {
  "kernelspec": {
   "display_name": "Python 3",
   "language": "python",
   "name": "python3"
  },
  "language_info": {
   "codemirror_mode": {
    "name": "ipython",
    "version": 3
   },
   "file_extension": ".py",
   "mimetype": "text/x-python",
   "name": "python",
   "nbconvert_exporter": "python",
   "pygments_lexer": "ipython3",
   "version": "3.7.4"
  }
 },
 "nbformat": 4,
 "nbformat_minor": 2
}
