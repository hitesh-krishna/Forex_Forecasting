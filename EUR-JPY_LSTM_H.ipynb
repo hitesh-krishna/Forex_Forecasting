{
 "cells": [
  {
   "cell_type": "code",
   "execution_count": 2,
   "metadata": {},
   "outputs": [
    {
     "name": "stderr",
     "output_type": "stream",
     "text": [
      "C:\\Users\\Hitesh\\AppData\\Local\\Continuum\\anaconda3\\lib\\site-packages\\statsmodels\\tools\\_testing.py:19: FutureWarning: pandas.util.testing is deprecated. Use the functions in the public API at pandas.testing instead.\n",
      "  import pandas.util.testing as tm\n"
     ]
    }
   ],
   "source": [
    "# Let`s import all packages that we may need:\n",
    "\n",
    "import sys \n",
    "import numpy as np # linear algebra\n",
    "from scipy.stats import randint\n",
    "import pandas as pd # data processing, CSV file I/O (e.g. pd.read_csv), data manipulation as in SQL\n",
    "import matplotlib.pyplot as plt # this is used for the plot the graph \n",
    "import seaborn as sns # used for plot interactive graph. \n",
    "from sklearn.model_selection import train_test_split # to split the data into two parts\n",
    "#from sklearn.cross_validation import KFold # use for cross validation\n",
    "from sklearn.preprocessing import StandardScaler # for normalization\n",
    "from sklearn.preprocessing import MinMaxScaler\n",
    "from sklearn.pipeline import Pipeline # pipeline making\n",
    "from sklearn.model_selection import cross_val_score\n",
    "from sklearn.feature_selection import SelectFromModel\n",
    "from sklearn import metrics # for the check the error and accuracy of the model\n",
    "from sklearn.metrics import mean_squared_error,r2_score\n",
    "\n",
    "## for Deep-learing:\n",
    "import keras\n",
    "from keras.layers import Dense\n",
    "from keras.models import Sequential\n",
    "from keras.utils import to_categorical\n",
    "from keras.optimizers import SGD \n",
    "from keras.callbacks import EarlyStopping\n",
    "from keras.utils import np_utils\n",
    "import itertools\n",
    "from keras.layers import LSTM\n",
    "from keras.layers.convolutional import Conv1D\n",
    "from keras.layers.convolutional import MaxPooling1D\n",
    "from keras.layers import Dropout\n",
    "from tensorflow.keras.callbacks import ModelCheckpoint, EarlyStopping\n",
    "\n",
    "import seaborn as sns\n",
    "sns.set_style('whitegrid')\n",
    "plt.style.use(\"fivethirtyeight\")\n",
    "%matplotlib inline\n",
    "\n",
    "# For time stamps\n",
    "from datetime import datetime"
   ]
  },
  {
   "cell_type": "code",
   "execution_count": 3,
   "metadata": {},
   "outputs": [],
   "source": [
    "import pandas as pd\n",
    "import glob\n",
    "\n",
    "path = r'C:/Users/Hitesh/Desktop/LJMU/Forex Implementation/EUR JPY/Data/' \n",
    "all_files = glob.glob(path + \"/*.csv\")\n",
    "\n",
    "li = []\n",
    "\n",
    "for filename in all_files:\n",
    "    df = pd.read_csv(filename, index_col=None, header=0)\n",
    "    df.columns = ['Index','Timestamp','Open_Bid_Quote','High_Bid_Quote','Low_Bid_Quote','Close_Bid_Quote','Volume']\n",
    "    df.drop(columns=['Index','Volume','Open_Bid_Quote','High_Bid_Quote','Low_Bid_Quote'],inplace=True)\n",
    "    li.append(df)\n",
    "\n",
    "data = pd.concat(li, axis=0, ignore_index=True)"
   ]
  },
  {
   "cell_type": "code",
   "execution_count": 4,
   "metadata": {},
   "outputs": [
    {
     "data": {
      "text/plain": [
       "<matplotlib.axes._subplots.AxesSubplot at 0x14698da4f88>"
      ]
     },
     "execution_count": 4,
     "metadata": {},
     "output_type": "execute_result"
    },
    {
     "data": {
      "text/plain": [
       "<Figure size 1440x360 with 0 Axes>"
      ]
     },
     "metadata": {},
     "output_type": "display_data"
    },
    {
     "data": {
      "image/png": "[encoded data removed]",
      "text/plain": [
       "<Figure size 432x288 with 1 Axes>"
      ]
     },
     "metadata": {
      "needs_background": "light"
     },
     "output_type": "display_data"
    }
   ],
   "source": [
    "plt.figure(figsize=(20,5))\n",
    "data.plot()"
   ]
  },
  {
   "cell_type": "code",
   "execution_count": 5,
   "metadata": {},
   "outputs": [
    {
     "data": {
      "text/plain": [
       "<bound method NDFrame.head of                    Timestamp  Close_Bid_Quote\n",
       "0        2010-01-03 17:02:00          132.980\n",
       "1        2010-01-03 17:03:00          132.980\n",
       "2        2010-01-03 17:04:00          132.970\n",
       "3        2010-01-03 17:05:00          133.000\n",
       "4        2010-01-03 17:06:00          133.050\n",
       "...                      ...              ...\n",
       "4264694  2021-06-30 23:54:00          131.641\n",
       "4264695  2021-06-30 23:55:00          131.642\n",
       "4264696  2021-06-30 23:56:00          131.648\n",
       "4264697  2021-06-30 23:57:00          131.649\n",
       "4264698  2021-06-30 23:58:00          131.645\n",
       "\n",
       "[4264699 rows x 2 columns]>"
      ]
     },
     "execution_count": 5,
     "metadata": {},
     "output_type": "execute_result"
    }
   ],
   "source": [
    "data.head"
   ]
  },
  {
   "cell_type": "code",
   "execution_count": 6,
   "metadata": {},
   "outputs": [
    {
     "data": {
      "text/plain": [
       "'2010-01-03 17:02:00'"
      ]
     },
     "execution_count": 6,
     "metadata": {},
     "output_type": "execute_result"
    }
   ],
   "source": [
    "data['Timestamp'].min()"
   ]
  },
  {
   "cell_type": "code",
   "execution_count": 7,
   "metadata": {},
   "outputs": [
    {
     "data": {
      "text/plain": [
       "'2021-06-30 23:58:00'"
      ]
     },
     "execution_count": 7,
     "metadata": {},
     "output_type": "execute_result"
    }
   ],
   "source": [
    "data['Timestamp'].max()"
   ]
  },
  {
   "cell_type": "code",
   "execution_count": 8,
   "metadata": {},
   "outputs": [],
   "source": [
    "from datetime import datetime                                              \n",
    "data['Timestamp'] = pd.to_datetime(data['Timestamp'])\n",
    "data = data.set_index('Timestamp')"
   ]
  },
  {
   "cell_type": "code",
   "execution_count": 9,
   "metadata": {},
   "outputs": [],
   "source": [
    "data = data.resample(\"H\").max()"
   ]
  },
  {
   "cell_type": "code",
   "execution_count": 10,
   "metadata": {},
   "outputs": [
    {
     "data": {
      "text/plain": [
       "Index(['Close_Bid_Quote'], dtype='object')"
      ]
     },
     "execution_count": 10,
     "metadata": {},
     "output_type": "execute_result"
    }
   ],
   "source": [
    "data.columns"
   ]
  },
  {
   "cell_type": "code",
   "execution_count": 11,
   "metadata": {},
   "outputs": [
    {
     "data": {
      "image/png": "[encoded data removed]",
      "text/plain": [
       "<Figure size 864x288 with 1 Axes>"
      ]
     },
     "metadata": {
      "needs_background": "light"
     },
     "output_type": "display_data"
    }
   ],
   "source": [
    "data = data.assign(Close_Bid_Quote_Linear_Interpolation=data.Close_Bid_Quote.interpolate(method='linear'))\n",
    "data[['Close_Bid_Quote_Linear_Interpolation']].plot(figsize=(12, 4))\n",
    "plt.legend(loc='best')\n",
    "plt.title('EUR-JPY Chart: Linear imputation')\n",
    "plt.show(block=False)"
   ]
  },
  {
   "cell_type": "code",
   "execution_count": 12,
   "metadata": {},
   "outputs": [],
   "source": [
    "data.drop(columns=['Close_Bid_Quote'],inplace=True)"
   ]
  },
  {
   "cell_type": "code",
   "execution_count": 13,
   "metadata": {},
   "outputs": [],
   "source": [
    "data=data.rename(columns={\"Close_Bid_Quote_Linear_Interpolation\": \"Close_Bid_Quote\"}, errors=\"raise\")"
   ]
  },
  {
   "cell_type": "code",
   "execution_count": 14,
   "metadata": {},
   "outputs": [
    {
     "data": {
      "text/html": [
       "<div>\n",
       "<style scoped>\n",
       "    .dataframe tbody tr th:only-of-type {\n",
       "        vertical-align: middle;\n",
       "    }\n",
       "\n",
       "    .dataframe tbody tr th {\n",
       "        vertical-align: top;\n",
       "    }\n",
       "\n",
       "    .dataframe thead th {\n",
       "        text-align: right;\n",
       "    }\n",
       "</style>\n",
       "<table border=\"1\" class=\"dataframe\">\n",
       "  <thead>\n",
       "    <tr style=\"text-align: right;\">\n",
       "      <th></th>\n",
       "      <th>Close_Bid_Quote</th>\n",
       "    </tr>\n",
       "    <tr>\n",
       "      <th>Timestamp</th>\n",
       "      <th></th>\n",
       "    </tr>\n",
       "  </thead>\n",
       "  <tbody>\n",
       "    <tr>\n",
       "      <th>2010-01-03 17:00:00</th>\n",
       "      <td>133.31</td>\n",
       "    </tr>\n",
       "    <tr>\n",
       "      <th>2010-01-03 18:00:00</th>\n",
       "      <td>133.23</td>\n",
       "    </tr>\n",
       "    <tr>\n",
       "      <th>2010-01-03 19:00:00</th>\n",
       "      <td>132.95</td>\n",
       "    </tr>\n",
       "    <tr>\n",
       "      <th>2010-01-03 20:00:00</th>\n",
       "      <td>132.77</td>\n",
       "    </tr>\n",
       "    <tr>\n",
       "      <th>2010-01-03 21:00:00</th>\n",
       "      <td>132.75</td>\n",
       "    </tr>\n",
       "  </tbody>\n",
       "</table>\n",
       "</div>"
      ],
      "text/plain": [
       "                     Close_Bid_Quote\n",
       "Timestamp                           \n",
       "2010-01-03 17:00:00           133.31\n",
       "2010-01-03 18:00:00           133.23\n",
       "2010-01-03 19:00:00           132.95\n",
       "2010-01-03 20:00:00           132.77\n",
       "2010-01-03 21:00:00           132.75"
      ]
     },
     "execution_count": 14,
     "metadata": {},
     "output_type": "execute_result"
    }
   ],
   "source": [
    "data.head()"
   ]
  },
  {
   "cell_type": "code",
   "execution_count": 15,
   "metadata": {},
   "outputs": [],
   "source": [
    "train_len = int(len(data['Close_Bid_Quote'])*80/100)\n",
    "train = data[0:train_len] # first 120 months as training set\n",
    "test = data[train_len:] # last 24"
   ]
  },
  {
   "cell_type": "code",
   "execution_count": 16,
   "metadata": {},
   "outputs": [
    {
     "data": {
      "text/plain": [
       "20143"
      ]
     },
     "execution_count": 16,
     "metadata": {},
     "output_type": "execute_result"
    }
   ],
   "source": [
    "len(test)"
   ]
  },
  {
   "cell_type": "code",
   "execution_count": 17,
   "metadata": {},
   "outputs": [
    {
     "data": {
      "text/plain": [
       "80568"
      ]
     },
     "execution_count": 17,
     "metadata": {},
     "output_type": "execute_result"
    }
   ],
   "source": [
    "len(train)"
   ]
  },
  {
   "cell_type": "code",
   "execution_count": 18,
   "metadata": {},
   "outputs": [
    {
     "data": {
      "text/plain": [
       "80569"
      ]
     },
     "execution_count": 18,
     "metadata": {},
     "output_type": "execute_result"
    }
   ],
   "source": [
    "dataset = data.values\n",
    "training_data_len = int(np.ceil( len(dataset) * .80 ))\n",
    "training_data_len"
   ]
  },
  {
   "cell_type": "code",
   "execution_count": 19,
   "metadata": {},
   "outputs": [
    {
     "data": {
      "text/plain": [
       "array([[0.70339639],\n",
       "       [0.70195648],\n",
       "       [0.69691679],\n",
       "       ...,\n",
       "       [0.67339225],\n",
       "       [0.67288828],\n",
       "       [0.67350024]])"
      ]
     },
     "execution_count": 19,
     "metadata": {},
     "output_type": "execute_result"
    }
   ],
   "source": [
    "# Scale the data\n",
    "from sklearn.preprocessing import MinMaxScaler\n",
    "\n",
    "scaler = MinMaxScaler(feature_range=(0,1))\n",
    "scaled_data = scaler.fit_transform(dataset)\n",
    "\n",
    "scaled_data"
   ]
  },
  {
   "cell_type": "code",
   "execution_count": 20,
   "metadata": {},
   "outputs": [],
   "source": [
    "train_data = scaled_data[0:int(training_data_len), :]\n",
    "# Split the data into x_train and y_train data sets"
   ]
  },
  {
   "cell_type": "code",
   "execution_count": 21,
   "metadata": {},
   "outputs": [
    {
     "name": "stdout",
     "output_type": "stream",
     "text": [
      "[array([0.70339639, 0.70195648, 0.69691679, 0.69367699, 0.69331701,\n",
      "       0.693497  , 0.69061718, 0.69493691, 0.69799672, 0.70069656,\n",
      "       0.70033658, 0.7080761 , 0.70879605, 0.71077593, 0.71167588,\n",
      "       0.71041595, 0.71077593, 0.70987599, 0.70681618, 0.70861607,\n",
      "       0.70861607, 0.70753613, 0.70627621, 0.70555626, 0.7048363 ,\n",
      "       0.70519628, 0.70573624, 0.70105653, 0.6983567 , 0.69763675,\n",
      "       0.69655681, 0.6918771 , 0.69367699, 0.69637682, 0.69403697,\n",
      "       0.69223708, 0.69169711, 0.69439695, 0.6951169 , 0.69313703,\n",
      "       0.68611746, 0.68197772, 0.68089778, 0.6758581 , 0.67441819,\n",
      "       0.67657805, 0.67621807, 0.67603809, 0.67675804, 0.67567811,\n",
      "       0.67297828, 0.67963786, 0.67801796, 0.68053781, 0.68287766,\n",
      "       0.68377761, 0.68287766, 0.68107777, 0.68197772, 0.69403697])]\n",
      "[0.6938569808671864]\n",
      "\n",
      "[array([0.70339639, 0.70195648, 0.69691679, 0.69367699, 0.69331701,\n",
      "       0.693497  , 0.69061718, 0.69493691, 0.69799672, 0.70069656,\n",
      "       0.70033658, 0.7080761 , 0.70879605, 0.71077593, 0.71167588,\n",
      "       0.71041595, 0.71077593, 0.70987599, 0.70681618, 0.70861607,\n",
      "       0.70861607, 0.70753613, 0.70627621, 0.70555626, 0.7048363 ,\n",
      "       0.70519628, 0.70573624, 0.70105653, 0.6983567 , 0.69763675,\n",
      "       0.69655681, 0.6918771 , 0.69367699, 0.69637682, 0.69403697,\n",
      "       0.69223708, 0.69169711, 0.69439695, 0.6951169 , 0.69313703,\n",
      "       0.68611746, 0.68197772, 0.68089778, 0.6758581 , 0.67441819,\n",
      "       0.67657805, 0.67621807, 0.67603809, 0.67675804, 0.67567811,\n",
      "       0.67297828, 0.67963786, 0.67801796, 0.68053781, 0.68287766,\n",
      "       0.68377761, 0.68287766, 0.68107777, 0.68197772, 0.69403697]), array([0.70195648, 0.69691679, 0.69367699, 0.69331701, 0.693497  ,\n",
      "       0.69061718, 0.69493691, 0.69799672, 0.70069656, 0.70033658,\n",
      "       0.7080761 , 0.70879605, 0.71077593, 0.71167588, 0.71041595,\n",
      "       0.71077593, 0.70987599, 0.70681618, 0.70861607, 0.70861607,\n",
      "       0.70753613, 0.70627621, 0.70555626, 0.7048363 , 0.70519628,\n",
      "       0.70573624, 0.70105653, 0.6983567 , 0.69763675, 0.69655681,\n",
      "       0.6918771 , 0.69367699, 0.69637682, 0.69403697, 0.69223708,\n",
      "       0.69169711, 0.69439695, 0.6951169 , 0.69313703, 0.68611746,\n",
      "       0.68197772, 0.68089778, 0.6758581 , 0.67441819, 0.67657805,\n",
      "       0.67621807, 0.67603809, 0.67675804, 0.67567811, 0.67297828,\n",
      "       0.67963786, 0.67801796, 0.68053781, 0.68287766, 0.68377761,\n",
      "       0.68287766, 0.68107777, 0.68197772, 0.69403697, 0.69385698])]\n",
      "[0.6938569808671864, 0.6936769920264947]\n",
      "\n"
     ]
    }
   ],
   "source": [
    "# Create the training data set \n",
    "# Create the scaled training data set\n",
    "\n",
    "x_train = []\n",
    "y_train = []\n",
    "\n",
    "for i in range(60, len(train_data)):\n",
    "    x_train.append(train_data[i-60:i, 0])\n",
    "    y_train.append(train_data[i, 0])\n",
    "    if i<= 61:\n",
    "        print(x_train)\n",
    "        print(y_train)\n",
    "        print()\n",
    "        \n",
    "# Convert the x_train and y_train to numpy arrays \n",
    "x_train, y_train = np.array(x_train), np.array(y_train)\n",
    "\n",
    "# Reshape the data\n",
    "x_train = np.reshape(x_train, (x_train.shape[0], x_train.shape[1], 1))\n",
    "# x_train.shape"
   ]
  },
  {
   "cell_type": "code",
   "execution_count": 22,
   "metadata": {},
   "outputs": [
    {
     "name": "stdout",
     "output_type": "stream",
     "text": [
      "Epoch 1/10\n",
      "2516/2516 [==============================] - 200s 76ms/step - loss: 0.0027\n",
      "Epoch 2/10\n",
      "2516/2516 [==============================] - 129s 51ms/step - loss: 3.7298e-05\n",
      "Epoch 3/10\n",
      "2516/2516 [==============================] - 128s 51ms/step - loss: 2.9496e-05\n",
      "Epoch 4/10\n",
      "2516/2516 [==============================] - 137s 55ms/step - loss: 1.9862e-05\n",
      "Epoch 5/10\n",
      "2516/2516 [==============================] - 139s 55ms/step - loss: 1.5812e-05\n",
      "Epoch 6/10\n",
      "2516/2516 [==============================] - 137s 54ms/step - loss: 1.1783e-05\n",
      "Epoch 7/10\n",
      "2516/2516 [==============================] - 136s 54ms/step - loss: 1.1065e-05\n",
      "Epoch 8/10\n",
      "2516/2516 [==============================] - 137s 54ms/step - loss: 9.8589e-06\n",
      "Epoch 9/10\n",
      "2516/2516 [==============================] - 188s 75ms/step - loss: 9.9869e-06\n",
      "Epoch 10/10\n",
      "2516/2516 [==============================] - 224s 89ms/step - loss: 9.9562e-06\n"
     ]
    },
    {
     "data": {
      "text/plain": [
       "<tensorflow.python.keras.callbacks.History at 0x1469b222bc8>"
      ]
     },
     "execution_count": 22,
     "metadata": {},
     "output_type": "execute_result"
    }
   ],
   "source": [
    "from keras.models import Sequential\n",
    "from keras.layers import Dense, LSTM\n",
    "\n",
    "# Build the LSTM model\n",
    "model = Sequential()\n",
    "model.add(LSTM(128, return_sequences=True, input_shape= (x_train.shape[1], 1)))\n",
    "model.add(LSTM(64, return_sequences=False))\n",
    "model.add(Dense(25))\n",
    "model.add(Dense(1))\n",
    "\n",
    "# Compile the model\n",
    "model.compile(optimizer='adam', loss='mean_squared_error')\n",
    "\n",
    "# Train the model\n",
    "model.fit(x_train, y_train, batch_size=32, epochs=10)"
   ]
  },
  {
   "cell_type": "code",
   "execution_count": 27,
   "metadata": {},
   "outputs": [
    {
     "data": {
      "text/plain": [
       "0.1804744655763059"
      ]
     },
     "execution_count": 27,
     "metadata": {},
     "output_type": "execute_result"
    }
   ],
   "source": [
    "# Create the testing data set\n",
    "# Create a new array containing scaled values from index 1543 to 2002 \n",
    "test_data = scaled_data[training_data_len - 60: , :]\n",
    "# Create the data sets x_test and y_test\n",
    "x_test = []\n",
    "y_test = dataset[training_data_len:, :]\n",
    "for i in range(60, len(test_data)):\n",
    "    x_test.append(test_data[i-60:i, 0])\n",
    "    \n",
    "# Convert the data to a numpy array\n",
    "x_test = np.array(x_test)\n",
    "\n",
    "# Reshape the data\n",
    "x_test = np.reshape(x_test, (x_test.shape[0], x_test.shape[1], 1 ))\n",
    "\n",
    "# Get the models predicted price values \n",
    "predictions = model.predict(x_test)\n",
    "predictions = scaler.inverse_transform(predictions)\n",
    "\n",
    "# Get the root mean squared error (RMSE)\n",
    "rmse = np.sqrt(np.mean(((predictions - y_test) ** 2)))\n",
    "rmse"
   ]
  },
  {
   "cell_type": "code",
   "execution_count": 28,
   "metadata": {},
   "outputs": [
    {
     "data": {
      "text/plain": [
       "0.1804744655763059"
      ]
     },
     "execution_count": 28,
     "metadata": {},
     "output_type": "execute_result"
    }
   ],
   "source": [
    "rms = np.sqrt(mean_squared_error(y_test, predictions))\n",
    "rms"
   ]
  },
  {
   "cell_type": "code",
   "execution_count": 29,
   "metadata": {},
   "outputs": [
    {
     "name": "stderr",
     "output_type": "stream",
     "text": [
      "C:\\Users\\Hitesh\\AppData\\Local\\Continuum\\anaconda3\\lib\\site-packages\\ipykernel_launcher.py:4: SettingWithCopyWarning: \n",
      "A value is trying to be set on a copy of a slice from a DataFrame.\n",
      "Try using .loc[row_indexer,col_indexer] = value instead\n",
      "\n",
      "See the caveats in the documentation: https://pandas.pydata.org/pandas-docs/stable/user_guide/indexing.html#returning-a-view-versus-a-copy\n",
      "  after removing the cwd from sys.path.\n"
     ]
    },
    {
     "data": {
      "image/png": "[encoded data removed]",
      "text/plain": [
       "<Figure size 1152x432 with 1 Axes>"
      ]
     },
     "metadata": {
      "needs_background": "light"
     },
     "output_type": "display_data"
    }
   ],
   "source": [
    "# Plot the data\n",
    "train = data[:training_data_len]\n",
    "valid = data[training_data_len:]\n",
    "valid['Predictions'] = predictions\n",
    "# Visualize the data\n",
    "plt.figure(figsize=(16,6))\n",
    "plt.title('LSTM Model - EUR-JPY')\n",
    "plt.xlabel('Date', fontsize=18)\n",
    "plt.ylabel('Close_Bid_Quote', fontsize=18)\n",
    "plt.plot(train['Close_Bid_Quote'])\n",
    "plt.plot(valid[['Close_Bid_Quote', 'Predictions']])\n",
    "plt.legend(['Train', 'Test', 'Predictions'], loc='lower right')\n",
    "plt.show()"
   ]
  },
  {
   "cell_type": "code",
   "execution_count": 30,
   "metadata": {},
   "outputs": [
    {
     "data": {
      "text/html": [
       "<div>\n",
       "<style scoped>\n",
       "    .dataframe tbody tr th:only-of-type {\n",
       "        vertical-align: middle;\n",
       "    }\n",
       "\n",
       "    .dataframe tbody tr th {\n",
       "        vertical-align: top;\n",
       "    }\n",
       "\n",
       "    .dataframe thead th {\n",
       "        text-align: right;\n",
       "    }\n",
       "</style>\n",
       "<table border=\"1\" class=\"dataframe\">\n",
       "  <thead>\n",
       "    <tr style=\"text-align: right;\">\n",
       "      <th></th>\n",
       "      <th>Close_Bid_Quote</th>\n",
       "      <th>Predictions</th>\n",
       "    </tr>\n",
       "    <tr>\n",
       "      <th>Timestamp</th>\n",
       "      <th></th>\n",
       "      <th></th>\n",
       "    </tr>\n",
       "  </thead>\n",
       "  <tbody>\n",
       "    <tr>\n",
       "      <th>2019-03-14 18:00:00</th>\n",
       "      <td>126.364</td>\n",
       "      <td>126.478050</td>\n",
       "    </tr>\n",
       "    <tr>\n",
       "      <th>2019-03-14 19:00:00</th>\n",
       "      <td>126.491</td>\n",
       "      <td>126.550880</td>\n",
       "    </tr>\n",
       "    <tr>\n",
       "      <th>2019-03-14 20:00:00</th>\n",
       "      <td>126.556</td>\n",
       "      <td>126.684044</td>\n",
       "    </tr>\n",
       "    <tr>\n",
       "      <th>2019-03-14 21:00:00</th>\n",
       "      <td>126.522</td>\n",
       "      <td>126.735039</td>\n",
       "    </tr>\n",
       "    <tr>\n",
       "      <th>2019-03-14 22:00:00</th>\n",
       "      <td>126.546</td>\n",
       "      <td>126.686096</td>\n",
       "    </tr>\n",
       "    <tr>\n",
       "      <th>...</th>\n",
       "      <td>...</td>\n",
       "      <td>...</td>\n",
       "    </tr>\n",
       "    <tr>\n",
       "      <th>2021-06-30 19:00:00</th>\n",
       "      <td>131.772</td>\n",
       "      <td>131.959244</td>\n",
       "    </tr>\n",
       "    <tr>\n",
       "      <th>2021-06-30 20:00:00</th>\n",
       "      <td>131.748</td>\n",
       "      <td>131.978333</td>\n",
       "    </tr>\n",
       "    <tr>\n",
       "      <th>2021-06-30 21:00:00</th>\n",
       "      <td>131.643</td>\n",
       "      <td>131.946793</td>\n",
       "    </tr>\n",
       "    <tr>\n",
       "      <th>2021-06-30 22:00:00</th>\n",
       "      <td>131.615</td>\n",
       "      <td>131.830429</td>\n",
       "    </tr>\n",
       "    <tr>\n",
       "      <th>2021-06-30 23:00:00</th>\n",
       "      <td>131.649</td>\n",
       "      <td>131.820663</td>\n",
       "    </tr>\n",
       "  </tbody>\n",
       "</table>\n",
       "<p>20142 rows × 2 columns</p>\n",
       "</div>"
      ],
      "text/plain": [
       "                     Close_Bid_Quote  Predictions\n",
       "Timestamp                                        \n",
       "2019-03-14 18:00:00          126.364   126.478050\n",
       "2019-03-14 19:00:00          126.491   126.550880\n",
       "2019-03-14 20:00:00          126.556   126.684044\n",
       "2019-03-14 21:00:00          126.522   126.735039\n",
       "2019-03-14 22:00:00          126.546   126.686096\n",
       "...                              ...          ...\n",
       "2021-06-30 19:00:00          131.772   131.959244\n",
       "2021-06-30 20:00:00          131.748   131.978333\n",
       "2021-06-30 21:00:00          131.643   131.946793\n",
       "2021-06-30 22:00:00          131.615   131.830429\n",
       "2021-06-30 23:00:00          131.649   131.820663\n",
       "\n",
       "[20142 rows x 2 columns]"
      ]
     },
     "execution_count": 30,
     "metadata": {},
     "output_type": "execute_result"
    }
   ],
   "source": [
    "# Show the valid and predicted prices\n",
    "valid"
   ]
  },
  {
   "cell_type": "code",
   "execution_count": null,
   "metadata": {},
   "outputs": [],
   "source": []
  },
  {
   "cell_type": "code",
   "execution_count": null,
   "metadata": {},
   "outputs": [],
   "source": []
  }
 ],
 "metadata": {
  "kernelspec": {
   "display_name": "Python 3",
   "language": "python",
   "name": "python3"
  },
  "language_info": {
   "codemirror_mode": {
    "name": "ipython",
    "version": 3
   },
   "file_extension": ".py",
   "mimetype": "text/x-python",
   "name": "python",
   "nbconvert_exporter": "python",
   "pygments_lexer": "ipython3",
   "version": "3.7.4"
  }
 },
 "nbformat": 4,
 "nbformat_minor": 2
}
